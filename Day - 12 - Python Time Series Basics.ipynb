{
 "cells": [
  {
   "cell_type": "markdown",
   "metadata": {},
   "source": [
    "# Time Series Basics with Pandas"
   ]
  },
  {
   "cell_type": "markdown",
   "metadata": {},
   "source": [
    "## What is the time series?\n",
    "\n",
    "#### A time series is a sequence of data points that occur in sequential order over a given time period. It is a data structure that represents a series of data points indexed or organized in chronological order. It is specifically designed to handle and analyze data that changes over time, such as stock prices, temperature readings, sales figures, or any other data recorded at regular time intervals."
   ]
  },
  {
   "cell_type": "markdown",
   "metadata": {},
   "source": [
    "## Working with Time series in Pandas"
   ]
  },
  {
   "cell_type": "markdown",
   "metadata": {},
   "source": [
    "# Import Necessary libraries"
   ]
  },
  {
   "cell_type": "code",
   "execution_count": 1,
   "metadata": {},
   "outputs": [],
   "source": [
    "import numpy as np\n",
    "import pandas as pd\n",
    "from datetime import datetime"
   ]
  },
  {
   "cell_type": "markdown",
   "metadata": {},
   "source": [
    "## Create a list called \"date\" containing five elements, which are instances of the \"datetime\" class from the Python's built-in \"datetime\" module."
   ]
  },
  {
   "cell_type": "code",
   "execution_count": 2,
   "metadata": {},
   "outputs": [
    {
     "data": {
      "text/plain": [
       "[datetime.datetime(2020, 1, 5, 0, 0),\n",
       " datetime.datetime(2020, 1, 10, 0, 0),\n",
       " datetime.datetime(2020, 1, 15, 0, 0),\n",
       " datetime.datetime(2020, 1, 20, 0, 0),\n",
       " datetime.datetime(2020, 1, 25, 0, 0)]"
      ]
     },
     "execution_count": 2,
     "metadata": {},
     "output_type": "execute_result"
    }
   ],
   "source": [
    "date = [datetime(2020 ,1,5),\n",
    "       datetime(2020, 1, 10),\n",
    "       datetime(2020, 1, 15),\n",
    "       datetime(2020, 1, 20),\n",
    "       datetime(2020 , 1 , 25)]\n",
    "date"
   ]
  },
  {
   "cell_type": "markdown",
   "metadata": {},
   "source": [
    "## How to create a time series data structure using pandas.lets make use of Numpy array to form random numbers , also to create the sereis lets make use of Pandas pd.Series"
   ]
  },
  {
   "cell_type": "code",
   "execution_count": 3,
   "metadata": {},
   "outputs": [
    {
     "data": {
      "text/plain": [
       "2020-01-05    1.992497\n",
       "2020-01-10    1.448087\n",
       "2020-01-15    0.146658\n",
       "2020-01-20   -0.081126\n",
       "2020-01-25    0.395909\n",
       "dtype: float64"
      ]
     },
     "execution_count": 3,
     "metadata": {},
     "output_type": "execute_result"
    }
   ],
   "source": [
    "ts = pd.Series(np.random.randn(5), index = date)\n",
    "ts"
   ]
  },
  {
   "cell_type": "markdown",
   "metadata": {},
   "source": [
    "## Retrieve the index associated with the Series ts."
   ]
  },
  {
   "cell_type": "code",
   "execution_count": 4,
   "metadata": {},
   "outputs": [
    {
     "data": {
      "text/plain": [
       "DatetimeIndex(['2020-01-05', '2020-01-10', '2020-01-15', '2020-01-20',\n",
       "               '2020-01-25'],\n",
       "              dtype='datetime64[ns]', freq=None)"
      ]
     },
     "execution_count": 4,
     "metadata": {},
     "output_type": "execute_result"
    }
   ],
   "source": [
    "ts.index"
   ]
  },
  {
   "cell_type": "markdown",
   "metadata": {},
   "source": [
    "# Time Series Data Structures"
   ]
  },
  {
   "cell_type": "markdown",
   "metadata": {},
   "source": [
    "## Convert a given date string (\"01/01/2020\") into a pandas datetime object."
   ]
  },
  {
   "cell_type": "code",
   "execution_count": 5,
   "metadata": {},
   "outputs": [
    {
     "data": {
      "text/plain": [
       "Timestamp('2020-01-01 00:00:00')"
      ]
     },
     "execution_count": 5,
     "metadata": {},
     "output_type": "execute_result"
    }
   ],
   "source": [
    "pd.to_datetime(\"01/01/2020\")"
   ]
  },
  {
   "cell_type": "markdown",
   "metadata": {},
   "source": [
    "## Create a pandas DatetimeIndex object called dates by converting a list of date representations into pandas datetime objects."
   ]
  },
  {
   "cell_type": "code",
   "execution_count": 6,
   "metadata": {},
   "outputs": [
    {
     "data": {
      "text/plain": [
       "DatetimeIndex(['2020-07-05', '2020-07-06', '2020-07-07', '2020-07-08'], dtype='datetime64[ns]', freq=None)"
      ]
     },
     "execution_count": 6,
     "metadata": {},
     "output_type": "execute_result"
    }
   ],
   "source": [
    "dates = pd.to_datetime([datetime (2020,7,5),\n",
    "                       \"6th of july 2020\",\n",
    "                       \"2020-Jul-7\",\n",
    "                       \"20200708\"])\n",
    "dates"
   ]
  },
  {
   "cell_type": "markdown",
   "metadata": {},
   "source": [
    "## Convert a pandas DatetimeIndex object (dates) into a PeriodIndex object with a daily frequency."
   ]
  },
  {
   "cell_type": "code",
   "execution_count": 8,
   "metadata": {},
   "outputs": [
    {
     "data": {
      "text/plain": [
       "PeriodIndex(['2020-07-05', '2020-07-06', '2020-07-07', '2020-07-08'], dtype='period[D]')"
      ]
     },
     "execution_count": 8,
     "metadata": {},
     "output_type": "execute_result"
    }
   ],
   "source": [
    "dates.to_period(\"D\")"
   ]
  },
  {
   "cell_type": "markdown",
   "metadata": {},
   "source": [
    "## Perform an operation to calculate the time difference between each date in the dates index and the first date in the index (dates[0])."
   ]
  },
  {
   "cell_type": "code",
   "execution_count": 9,
   "metadata": {},
   "outputs": [
    {
     "data": {
      "text/plain": [
       "TimedeltaIndex(['0 days', '1 days', '2 days', '3 days'], dtype='timedelta64[ns]', freq=None)"
      ]
     },
     "execution_count": 9,
     "metadata": {},
     "output_type": "execute_result"
    }
   ],
   "source": [
    "dates - dates[0]"
   ]
  },
  {
   "cell_type": "markdown",
   "metadata": {},
   "source": [
    "# Creating a Time Series"
   ]
  },
  {
   "cell_type": "markdown",
   "metadata": {},
   "source": [
    "## Create a date range using the pd.date_range() function from the pandas library. Take two arguments:\n",
    "\n",
    "The first argument is the starting date of the range, \"2020-08-15\" in this case.\n",
    "\n",
    "The second argument is the end date of the range, \"2020-09-01\" in this case."
   ]
  },
  {
   "cell_type": "code",
   "execution_count": 10,
   "metadata": {},
   "outputs": [
    {
     "data": {
      "text/plain": [
       "DatetimeIndex(['2020-08-15', '2020-08-16', '2020-08-17', '2020-08-18',\n",
       "               '2020-08-19', '2020-08-20', '2020-08-21', '2020-08-22',\n",
       "               '2020-08-23', '2020-08-24', '2020-08-25', '2020-08-26',\n",
       "               '2020-08-27', '2020-08-28', '2020-08-29', '2020-08-30',\n",
       "               '2020-08-31', '2020-09-01'],\n",
       "              dtype='datetime64[ns]', freq='D')"
      ]
     },
     "execution_count": 10,
     "metadata": {},
     "output_type": "execute_result"
    }
   ],
   "source": [
    "pd.date_range(\"2020-08-15\", \"2020-09-01\")"
   ]
  },
  {
   "cell_type": "markdown",
   "metadata": {},
   "source": [
    "## Use the pd.date_range() function from the pandas library to create a date range. Generate a sequence of dates starting from a specified date and with a specified number of periods. Take two arguments:\n",
    "\n",
    "The first argument is the starting date of the range, which is '2020-07-15' in this case.\n",
    "\n",
    "The second argument is periods, which specifies the number of periods or dates to generate. Here, it is set to 10."
   ]
  },
  {
   "cell_type": "code",
   "execution_count": 11,
   "metadata": {},
   "outputs": [
    {
     "data": {
      "text/plain": [
       "DatetimeIndex(['2020-08-15', '2020-08-16', '2020-08-17', '2020-08-18',\n",
       "               '2020-08-19', '2020-08-20', '2020-08-21', '2020-08-22',\n",
       "               '2020-08-23', '2020-08-24'],\n",
       "              dtype='datetime64[ns]', freq='D')"
      ]
     },
     "execution_count": 11,
     "metadata": {},
     "output_type": "execute_result"
    }
   ],
   "source": [
    "pd.date_range(\"2020-08-15\", periods = 10)"
   ]
  },
  {
   "cell_type": "markdown",
   "metadata": {},
   "source": [
    "## Take the reference from above code and generate a sequence of dates at hourly intervals within a specified range."
   ]
  },
  {
   "cell_type": "code",
   "execution_count": 12,
   "metadata": {},
   "outputs": [
    {
     "data": {
      "text/plain": [
       "DatetimeIndex(['2020-08-15 00:00:00', '2020-08-15 01:00:00',\n",
       "               '2020-08-15 02:00:00', '2020-08-15 03:00:00',\n",
       "               '2020-08-15 04:00:00', '2020-08-15 05:00:00',\n",
       "               '2020-08-15 06:00:00', '2020-08-15 07:00:00',\n",
       "               '2020-08-15 08:00:00', '2020-08-15 09:00:00'],\n",
       "              dtype='datetime64[ns]', freq='H')"
      ]
     },
     "execution_count": 12,
     "metadata": {},
     "output_type": "execute_result"
    }
   ],
   "source": [
    "pd.date_range(\"2020-08-15\", periods= 10 , freq = 'H')"
   ]
  },
  {
   "cell_type": "markdown",
   "metadata": {},
   "source": [
    "## Generate a sequence of periods at monthly intervals within a specified range. "
   ]
  },
  {
   "cell_type": "code",
   "execution_count": 13,
   "metadata": {},
   "outputs": [
    {
     "data": {
      "text/plain": [
       "PeriodIndex(['2020-10', '2020-11', '2020-12', '2021-01', '2021-02', '2021-03',\n",
       "             '2021-04', '2021-05', '2021-06', '2021-07'],\n",
       "            dtype='period[M]')"
      ]
     },
     "execution_count": 13,
     "metadata": {},
     "output_type": "execute_result"
    }
   ],
   "source": [
    "pd.period_range(\"2020-10\", periods = 10, freq=\"M\")"
   ]
  },
  {
   "cell_type": "markdown",
   "metadata": {},
   "source": [
    "## Generate a sequence of time deltas at hourly intervals within a specified range. Use the pd.timedelta_range() function from the pandas library to create a range of time deltas with a specific frequency.\n",
    "\n",
    "Hint : Take Three arguments\n",
    "\n",
    "Starting time delta of the range = 0 in this case as it represents the initial duration or time difference.\n",
    "\n",
    "periods = 8 as it specifies the number of periods or time deltas\n",
    "\n",
    "freq = \"H\" as hourly intervals should be taken in action\n",
    "\n"
   ]
  },
  {
   "cell_type": "code",
   "execution_count": 14,
   "metadata": {},
   "outputs": [
    {
     "data": {
      "text/plain": [
       "TimedeltaIndex(['0 days 00:00:00', '0 days 01:00:00', '0 days 02:00:00',\n",
       "                '0 days 03:00:00', '0 days 04:00:00', '0 days 05:00:00',\n",
       "                '0 days 06:00:00', '0 days 07:00:00'],\n",
       "               dtype='timedelta64[ns]', freq='H')"
      ]
     },
     "execution_count": 14,
     "metadata": {},
     "output_type": "execute_result"
    }
   ],
   "source": [
    "pd.timedelta_range(0 , periods=8 , freq= \"H\")"
   ]
  },
  {
   "cell_type": "markdown",
   "metadata": {},
   "source": [
    "## Retrieve the value at index position 1 of the index of the pandas Series ts. It then should be assigned to the variable `stamp`."
   ]
  },
  {
   "cell_type": "code",
   "execution_count": 15,
   "metadata": {},
   "outputs": [
    {
     "data": {
      "text/plain": [
       "Timestamp('2020-01-10 00:00:00')"
      ]
     },
     "execution_count": 15,
     "metadata": {},
     "output_type": "execute_result"
    }
   ],
   "source": [
    "stamp= ts.index[1]\n",
    "stamp"
   ]
  },
  {
   "cell_type": "markdown",
   "metadata": {},
   "source": [
    "## Retrieve the value from a pandas Series ts at the specific index `stamp`."
   ]
  },
  {
   "cell_type": "code",
   "execution_count": 16,
   "metadata": {},
   "outputs": [
    {
     "data": {
      "text/plain": [
       "1.4480870493470355"
      ]
     },
     "execution_count": 16,
     "metadata": {},
     "output_type": "execute_result"
    }
   ],
   "source": [
    "ts[stamp]"
   ]
  },
  {
   "cell_type": "markdown",
   "metadata": {},
   "source": [
    "## Try to retrieve the value from the Series `ts` that corresponds to the index label` \"25.1.2020\"`. Attempt to access the element from the Series based on the provided label."
   ]
  },
  {
   "cell_type": "code",
   "execution_count": 17,
   "metadata": {},
   "outputs": [
    {
     "data": {
      "text/plain": [
       "0.39590939738847947"
      ]
     },
     "execution_count": 17,
     "metadata": {},
     "output_type": "execute_result"
    }
   ],
   "source": [
    "ts[\"25.1.2020\"]"
   ]
  },
  {
   "cell_type": "markdown",
   "metadata": {},
   "source": [
    "## Access the value in the Series `ts` that corresponds to the index label `\"20200125\"`. It should retrieve the element from the Series based on the provided label."
   ]
  },
  {
   "cell_type": "code",
   "execution_count": 18,
   "metadata": {},
   "outputs": [
    {
     "data": {
      "text/plain": [
       "0.39590939738847947"
      ]
     },
     "execution_count": 18,
     "metadata": {},
     "output_type": "execute_result"
    }
   ],
   "source": [
    "ts[\"20200125\"]"
   ]
  },
  {
   "cell_type": "markdown",
   "metadata": {},
   "source": [
    "## Create a pandas Series long_ts with 1000 random values and assign it a datetime index starting from January 1, 2020."
   ]
  },
  {
   "cell_type": "code",
   "execution_count": 20,
   "metadata": {},
   "outputs": [
    {
     "data": {
      "text/plain": [
       "2020-01-01   -0.697040\n",
       "2020-01-02    0.288077\n",
       "2020-01-03   -2.320190\n",
       "2020-01-04   -0.769711\n",
       "2020-01-05    0.195912\n",
       "Freq: D, dtype: float64"
      ]
     },
     "execution_count": 20,
     "metadata": {},
     "output_type": "execute_result"
    }
   ],
   "source": [
    "long_ts = pd.Series(np.random.randn(1000), index = pd.date_range(\"1/1/2020\", periods=1000) )\n",
    "long_ts.head()"
   ]
  },
  {
   "cell_type": "markdown",
   "metadata": {},
   "source": [
    "## Retrieve the first few elements of a pandas Series `long_ts` that correspond to the year 2020."
   ]
  },
  {
   "cell_type": "code",
   "execution_count": 21,
   "metadata": {},
   "outputs": [
    {
     "data": {
      "text/plain": [
       "2020-01-01   -0.697040\n",
       "2020-01-02    0.288077\n",
       "2020-01-03   -2.320190\n",
       "2020-01-04   -0.769711\n",
       "2020-01-05    0.195912\n",
       "Freq: D, dtype: float64"
      ]
     },
     "execution_count": 21,
     "metadata": {},
     "output_type": "execute_result"
    }
   ],
   "source": [
    "long_ts[\"2020\"].head()"
   ]
  },
  {
   "cell_type": "markdown",
   "metadata": {},
   "source": [
    "## Retrieve the first 15 elements of a pandas Series `long_ts` that correspond to the month of October 2020."
   ]
  },
  {
   "cell_type": "code",
   "execution_count": 22,
   "metadata": {},
   "outputs": [
    {
     "data": {
      "text/plain": [
       "2020-10-01   -0.184095\n",
       "2020-10-02    2.517817\n",
       "2020-10-03    1.206873\n",
       "2020-10-04    1.943541\n",
       "2020-10-05    1.584399\n",
       "2020-10-06    1.658162\n",
       "2020-10-07    0.132665\n",
       "2020-10-08    0.885443\n",
       "2020-10-09    0.634043\n",
       "2020-10-10   -1.357682\n",
       "2020-10-11    0.114963\n",
       "2020-10-12    1.379589\n",
       "2020-10-13   -1.881778\n",
       "2020-10-14    0.864461\n",
       "2020-10-15    0.727835\n",
       "Freq: D, dtype: float64"
      ]
     },
     "execution_count": 22,
     "metadata": {},
     "output_type": "execute_result"
    }
   ],
   "source": [
    "long_ts[\"2020-10\"].head(15)"
   ]
  },
  {
   "cell_type": "markdown",
   "metadata": {},
   "source": [
    "## Retrieve a subset of a pandas Series `long_ts` starting from a specific date, in this case, `September 20, 2022`, and extending until the end of the Series."
   ]
  },
  {
   "cell_type": "code",
   "execution_count": 23,
   "metadata": {},
   "outputs": [
    {
     "data": {
      "text/plain": [
       "2022-09-20   -1.784143\n",
       "2022-09-21   -0.879286\n",
       "2022-09-22   -1.128714\n",
       "2022-09-23    0.189311\n",
       "2022-09-24   -0.095503\n",
       "2022-09-25   -0.869514\n",
       "2022-09-26   -0.990770\n",
       "Freq: D, dtype: float64"
      ]
     },
     "execution_count": 23,
     "metadata": {},
     "output_type": "execute_result"
    }
   ],
   "source": [
    "long_ts[datetime(2022,9,20):]"
   ]
  },
  {
   "cell_type": "markdown",
   "metadata": {},
   "source": [
    "# The Important Methods Used in Time Series"
   ]
  },
  {
   "cell_type": "code",
   "execution_count": 24,
   "metadata": {
    "scrolled": true
   },
   "outputs": [
    {
     "data": {
      "text/plain": [
       "2020-01-05    1.992497\n",
       "2020-01-10    1.448087\n",
       "2020-01-15    0.146658\n",
       "2020-01-20   -0.081126\n",
       "2020-01-25    0.395909\n",
       "dtype: float64"
      ]
     },
     "execution_count": 24,
     "metadata": {},
     "output_type": "execute_result"
    }
   ],
   "source": [
    "ts"
   ]
  },
  {
   "cell_type": "markdown",
   "metadata": {},
   "source": [
    "## Modify the Series ts by removing all the elements that come after the specified date `(\"1/15/2020\")`. It keeps only the elements that fall on or before the specified date."
   ]
  },
  {
   "cell_type": "code",
   "execution_count": 25,
   "metadata": {},
   "outputs": [
    {
     "data": {
      "text/plain": [
       "2020-01-05    1.992497\n",
       "2020-01-10    1.448087\n",
       "2020-01-15    0.146658\n",
       "dtype: float64"
      ]
     },
     "execution_count": 25,
     "metadata": {},
     "output_type": "execute_result"
    }
   ],
   "source": [
    "ts.truncate(after=\"1/15/2020\")"
   ]
  },
  {
   "cell_type": "markdown",
   "metadata": {},
   "source": [
    "## Generate a sequence of dates starting from January 1, 2020, and continuing for 100 periods at a weekly frequency, with each week ending on a Sunday."
   ]
  },
  {
   "cell_type": "code",
   "execution_count": 26,
   "metadata": {},
   "outputs": [],
   "source": [
    "date=pd.date_range(\"1/1/2020\",periods=100, freq=\"W-SUN\")"
   ]
  },
  {
   "cell_type": "code",
   "execution_count": 27,
   "metadata": {},
   "outputs": [
    {
     "data": {
      "text/plain": [
       "DatetimeIndex(['2020-01-05', '2020-01-12', '2020-01-19', '2020-01-26',\n",
       "               '2020-02-02', '2020-02-09', '2020-02-16', '2020-02-23',\n",
       "               '2020-03-01', '2020-03-08', '2020-03-15', '2020-03-22',\n",
       "               '2020-03-29', '2020-04-05', '2020-04-12', '2020-04-19',\n",
       "               '2020-04-26', '2020-05-03', '2020-05-10', '2020-05-17',\n",
       "               '2020-05-24', '2020-05-31', '2020-06-07', '2020-06-14',\n",
       "               '2020-06-21', '2020-06-28', '2020-07-05', '2020-07-12',\n",
       "               '2020-07-19', '2020-07-26', '2020-08-02', '2020-08-09',\n",
       "               '2020-08-16', '2020-08-23', '2020-08-30', '2020-09-06',\n",
       "               '2020-09-13', '2020-09-20', '2020-09-27', '2020-10-04',\n",
       "               '2020-10-11', '2020-10-18', '2020-10-25', '2020-11-01',\n",
       "               '2020-11-08', '2020-11-15', '2020-11-22', '2020-11-29',\n",
       "               '2020-12-06', '2020-12-13', '2020-12-20', '2020-12-27',\n",
       "               '2021-01-03', '2021-01-10', '2021-01-17', '2021-01-24',\n",
       "               '2021-01-31', '2021-02-07', '2021-02-14', '2021-02-21',\n",
       "               '2021-02-28', '2021-03-07', '2021-03-14', '2021-03-21',\n",
       "               '2021-03-28', '2021-04-04', '2021-04-11', '2021-04-18',\n",
       "               '2021-04-25', '2021-05-02', '2021-05-09', '2021-05-16',\n",
       "               '2021-05-23', '2021-05-30', '2021-06-06', '2021-06-13',\n",
       "               '2021-06-20', '2021-06-27', '2021-07-04', '2021-07-11',\n",
       "               '2021-07-18', '2021-07-25', '2021-08-01', '2021-08-08',\n",
       "               '2021-08-15', '2021-08-22', '2021-08-29', '2021-09-05',\n",
       "               '2021-09-12', '2021-09-19', '2021-09-26', '2021-10-03',\n",
       "               '2021-10-10', '2021-10-17', '2021-10-24', '2021-10-31',\n",
       "               '2021-11-07', '2021-11-14', '2021-11-21', '2021-11-28'],\n",
       "              dtype='datetime64[ns]', freq='W-SUN')"
      ]
     },
     "execution_count": 27,
     "metadata": {},
     "output_type": "execute_result"
    }
   ],
   "source": [
    "date"
   ]
  },
  {
   "cell_type": "markdown",
   "metadata": {},
   "source": [
    "## Create a pandas DataFrame long_df with 100 rows and 4 columns. Assign random values to the DataFrame and sets the index as the previously generated date sequence. The columns of the DataFrame are labeled as \"A\", \"B\", \"C\", and \"D\"."
   ]
  },
  {
   "cell_type": "code",
   "execution_count": 29,
   "metadata": {},
   "outputs": [
    {
     "data": {
      "text/html": [
       "<div>\n",
       "<style scoped>\n",
       "    .dataframe tbody tr th:only-of-type {\n",
       "        vertical-align: middle;\n",
       "    }\n",
       "\n",
       "    .dataframe tbody tr th {\n",
       "        vertical-align: top;\n",
       "    }\n",
       "\n",
       "    .dataframe thead th {\n",
       "        text-align: right;\n",
       "    }\n",
       "</style>\n",
       "<table border=\"1\" class=\"dataframe\">\n",
       "  <thead>\n",
       "    <tr style=\"text-align: right;\">\n",
       "      <th></th>\n",
       "      <th>A</th>\n",
       "      <th>B</th>\n",
       "      <th>C</th>\n",
       "      <th>D</th>\n",
       "    </tr>\n",
       "  </thead>\n",
       "  <tbody>\n",
       "    <tr>\n",
       "      <th>2020-01-05</th>\n",
       "      <td>0.276530</td>\n",
       "      <td>0.100734</td>\n",
       "      <td>0.335528</td>\n",
       "      <td>-0.651135</td>\n",
       "    </tr>\n",
       "    <tr>\n",
       "      <th>2020-01-12</th>\n",
       "      <td>0.264843</td>\n",
       "      <td>-0.853976</td>\n",
       "      <td>-0.185890</td>\n",
       "      <td>-0.139381</td>\n",
       "    </tr>\n",
       "    <tr>\n",
       "      <th>2020-01-19</th>\n",
       "      <td>-0.790441</td>\n",
       "      <td>-1.390141</td>\n",
       "      <td>0.220222</td>\n",
       "      <td>0.938405</td>\n",
       "    </tr>\n",
       "    <tr>\n",
       "      <th>2020-01-26</th>\n",
       "      <td>-0.251019</td>\n",
       "      <td>-0.191315</td>\n",
       "      <td>1.695448</td>\n",
       "      <td>-0.953687</td>\n",
       "    </tr>\n",
       "    <tr>\n",
       "      <th>2020-02-02</th>\n",
       "      <td>0.427040</td>\n",
       "      <td>0.583313</td>\n",
       "      <td>-1.083852</td>\n",
       "      <td>0.862135</td>\n",
       "    </tr>\n",
       "    <tr>\n",
       "      <th>...</th>\n",
       "      <td>...</td>\n",
       "      <td>...</td>\n",
       "      <td>...</td>\n",
       "      <td>...</td>\n",
       "    </tr>\n",
       "    <tr>\n",
       "      <th>2021-10-31</th>\n",
       "      <td>-0.348841</td>\n",
       "      <td>0.367758</td>\n",
       "      <td>0.032431</td>\n",
       "      <td>0.665362</td>\n",
       "    </tr>\n",
       "    <tr>\n",
       "      <th>2021-11-07</th>\n",
       "      <td>1.171098</td>\n",
       "      <td>-1.003783</td>\n",
       "      <td>-0.877122</td>\n",
       "      <td>1.052987</td>\n",
       "    </tr>\n",
       "    <tr>\n",
       "      <th>2021-11-14</th>\n",
       "      <td>-0.234984</td>\n",
       "      <td>-0.659181</td>\n",
       "      <td>0.386292</td>\n",
       "      <td>0.851238</td>\n",
       "    </tr>\n",
       "    <tr>\n",
       "      <th>2021-11-21</th>\n",
       "      <td>-2.223043</td>\n",
       "      <td>0.779961</td>\n",
       "      <td>0.628473</td>\n",
       "      <td>-0.261832</td>\n",
       "    </tr>\n",
       "    <tr>\n",
       "      <th>2021-11-28</th>\n",
       "      <td>0.573283</td>\n",
       "      <td>1.082128</td>\n",
       "      <td>0.286184</td>\n",
       "      <td>0.383353</td>\n",
       "    </tr>\n",
       "  </tbody>\n",
       "</table>\n",
       "<p>100 rows × 4 columns</p>\n",
       "</div>"
      ],
      "text/plain": [
       "                   A         B         C         D\n",
       "2020-01-05  0.276530  0.100734  0.335528 -0.651135\n",
       "2020-01-12  0.264843 -0.853976 -0.185890 -0.139381\n",
       "2020-01-19 -0.790441 -1.390141  0.220222  0.938405\n",
       "2020-01-26 -0.251019 -0.191315  1.695448 -0.953687\n",
       "2020-02-02  0.427040  0.583313 -1.083852  0.862135\n",
       "...              ...       ...       ...       ...\n",
       "2021-10-31 -0.348841  0.367758  0.032431  0.665362\n",
       "2021-11-07  1.171098 -1.003783 -0.877122  1.052987\n",
       "2021-11-14 -0.234984 -0.659181  0.386292  0.851238\n",
       "2021-11-21 -2.223043  0.779961  0.628473 -0.261832\n",
       "2021-11-28  0.573283  1.082128  0.286184  0.383353\n",
       "\n",
       "[100 rows x 4 columns]"
      ]
     },
     "execution_count": 29,
     "metadata": {},
     "output_type": "execute_result"
    }
   ],
   "source": [
    "long_df = pd.DataFrame(np.random.randn(100,4),\n",
    "                      index = date,\n",
    "                      columns= list(\"ABCD\"))\n",
    "long_df"
   ]
  },
  {
   "cell_type": "markdown",
   "metadata": {},
   "source": [
    "## Define a pandas DatetimeIndex date with a list of dates. It should include multiple occurrences of some dates, such as \"1/2/2020\", to demonstrate that the same date can appear multiple times."
   ]
  },
  {
   "cell_type": "code",
   "execution_count": 30,
   "metadata": {},
   "outputs": [
    {
     "data": {
      "text/plain": [
       "2020-01-02    0\n",
       "2020-01-02    1\n",
       "2020-01-02    2\n",
       "2020-01-02    3\n",
       "2020-01-02    4\n",
       "dtype: int64"
      ]
     },
     "execution_count": 30,
     "metadata": {},
     "output_type": "execute_result"
    }
   ],
   "source": [
    "date = pd.DatetimeIndex([\"1/2/2020\", \"1/2/2020\", \"1/2/2020\",\"1/2/2020\",\"1/2/2020\"])\n",
    "ts1 = pd.Series(np.arange(5), index= date)\n",
    "ts1"
   ]
  },
  {
   "cell_type": "markdown",
   "metadata": {},
   "source": [
    "## Check whether the index of a pandas Series ts1 contains unique values or not."
   ]
  },
  {
   "cell_type": "code",
   "execution_count": 32,
   "metadata": {},
   "outputs": [
    {
     "data": {
      "text/plain": [
       "False"
      ]
     },
     "execution_count": 32,
     "metadata": {},
     "output_type": "execute_result"
    }
   ],
   "source": [
    "ts1.index.is_unique"
   ]
  },
  {
   "cell_type": "markdown",
   "metadata": {},
   "source": [
    "## Group the elements of a pandas Series ts1 based on the values of its index at level 0."
   ]
  },
  {
   "cell_type": "code",
   "execution_count": 33,
   "metadata": {},
   "outputs": [],
   "source": [
    "group = ts1.groupby(level= 0)"
   ]
  },
  {
   "cell_type": "markdown",
   "metadata": {},
   "source": [
    "## Calculate the count of elements in each group of a pandas GroupBy object group."
   ]
  },
  {
   "cell_type": "code",
   "execution_count": 34,
   "metadata": {},
   "outputs": [
    {
     "data": {
      "text/plain": [
       "2020-01-02    5\n",
       "dtype: int64"
      ]
     },
     "execution_count": 34,
     "metadata": {},
     "output_type": "execute_result"
    }
   ],
   "source": [
    "group.count()"
   ]
  },
  {
   "cell_type": "markdown",
   "metadata": {},
   "source": [
    "## Calculate the mean value for each group of a pandas GroupBy object group."
   ]
  },
  {
   "cell_type": "code",
   "execution_count": null,
   "metadata": {},
   "outputs": [],
   "source": []
  },
  {
   "cell_type": "code",
   "execution_count": null,
   "metadata": {},
   "outputs": [],
   "source": []
  }
 ],
 "metadata": {
  "kernelspec": {
   "display_name": "Python 3 (ipykernel)",
   "language": "python",
   "name": "python3"
  },
  "language_info": {
   "codemirror_mode": {
    "name": "ipython",
    "version": 3
   },
   "file_extension": ".py",
   "mimetype": "text/x-python",
   "name": "python",
   "nbconvert_exporter": "python",
   "pygments_lexer": "ipython3",
   "version": "3.9.13"
  }
 },
 "nbformat": 4,
 "nbformat_minor": 2
}
