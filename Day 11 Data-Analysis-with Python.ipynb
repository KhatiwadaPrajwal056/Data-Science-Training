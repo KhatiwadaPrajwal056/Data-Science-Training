{
 "cells": [
  {
   "cell_type": "markdown",
   "id": "4fcf9464",
   "metadata": {},
   "source": [
    "# Data Analysis with Python using Forbes 2022 Dataset"
   ]
  },
  {
   "cell_type": "markdown",
   "id": "0fb11529",
   "metadata": {},
   "source": [
    "## Loading Data"
   ]
  },
  {
   "cell_type": "code",
   "execution_count": 1,
   "id": "c0a1700b",
   "metadata": {},
   "outputs": [],
   "source": [
    "import pandas as pd"
   ]
  },
  {
   "cell_type": "code",
   "execution_count": 2,
   "id": "010e4103",
   "metadata": {},
   "outputs": [],
   "source": [
    "df = pd.read_csv(\"Data/forbes_2022_billionaires.csv\")"
   ]
  },
  {
   "cell_type": "code",
   "execution_count": 3,
   "id": "49ca38b5",
   "metadata": {},
   "outputs": [
    {
     "data": {
      "text/html": [
       "<div>\n",
       "<style scoped>\n",
       "    .dataframe tbody tr th:only-of-type {\n",
       "        vertical-align: middle;\n",
       "    }\n",
       "\n",
       "    .dataframe tbody tr th {\n",
       "        vertical-align: top;\n",
       "    }\n",
       "\n",
       "    .dataframe thead th {\n",
       "        text-align: right;\n",
       "    }\n",
       "</style>\n",
       "<table border=\"1\" class=\"dataframe\">\n",
       "  <thead>\n",
       "    <tr style=\"text-align: right;\">\n",
       "      <th></th>\n",
       "      <th>rank</th>\n",
       "      <th>personName</th>\n",
       "      <th>age</th>\n",
       "      <th>finalWorth</th>\n",
       "      <th>year</th>\n",
       "      <th>month</th>\n",
       "      <th>category</th>\n",
       "      <th>source</th>\n",
       "      <th>country</th>\n",
       "      <th>state</th>\n",
       "      <th>...</th>\n",
       "      <th>organization</th>\n",
       "      <th>selfMade</th>\n",
       "      <th>gender</th>\n",
       "      <th>birthDate</th>\n",
       "      <th>title</th>\n",
       "      <th>philanthropyScore</th>\n",
       "      <th>residenceMsa</th>\n",
       "      <th>numberOfSiblings</th>\n",
       "      <th>bio</th>\n",
       "      <th>about</th>\n",
       "    </tr>\n",
       "  </thead>\n",
       "  <tbody>\n",
       "    <tr>\n",
       "      <th>0</th>\n",
       "      <td>1</td>\n",
       "      <td>Elon Musk</td>\n",
       "      <td>50.0</td>\n",
       "      <td>219000.0</td>\n",
       "      <td>2022</td>\n",
       "      <td>4</td>\n",
       "      <td>Automotive</td>\n",
       "      <td>Tesla, SpaceX</td>\n",
       "      <td>United States</td>\n",
       "      <td>Texas</td>\n",
       "      <td>...</td>\n",
       "      <td>Tesla</td>\n",
       "      <td>True</td>\n",
       "      <td>M</td>\n",
       "      <td>1971-06-28</td>\n",
       "      <td>CEO</td>\n",
       "      <td>1.0</td>\n",
       "      <td>NaN</td>\n",
       "      <td>NaN</td>\n",
       "      <td>Elon Musk is working to revolutionize transpor...</td>\n",
       "      <td>Musk was accepted to a graduate program at Sta...</td>\n",
       "    </tr>\n",
       "    <tr>\n",
       "      <th>1</th>\n",
       "      <td>2</td>\n",
       "      <td>Jeff Bezos</td>\n",
       "      <td>58.0</td>\n",
       "      <td>171000.0</td>\n",
       "      <td>2022</td>\n",
       "      <td>4</td>\n",
       "      <td>Technology</td>\n",
       "      <td>Amazon</td>\n",
       "      <td>United States</td>\n",
       "      <td>Washington</td>\n",
       "      <td>...</td>\n",
       "      <td>Amazon</td>\n",
       "      <td>True</td>\n",
       "      <td>M</td>\n",
       "      <td>1964-01-12</td>\n",
       "      <td>Entrepreneur</td>\n",
       "      <td>1.0</td>\n",
       "      <td>Seattle-Tacoma-Bellevue, WA</td>\n",
       "      <td>NaN</td>\n",
       "      <td>Jeff Bezos founded e-commerce giant Amazon in ...</td>\n",
       "      <td>Growing up, Jeff Bezos worked summers on his g...</td>\n",
       "    </tr>\n",
       "    <tr>\n",
       "      <th>2</th>\n",
       "      <td>3</td>\n",
       "      <td>Bernard Arnault &amp; family</td>\n",
       "      <td>73.0</td>\n",
       "      <td>158000.0</td>\n",
       "      <td>2022</td>\n",
       "      <td>4</td>\n",
       "      <td>Fashion &amp; Retail</td>\n",
       "      <td>LVMH</td>\n",
       "      <td>France</td>\n",
       "      <td>NaN</td>\n",
       "      <td>...</td>\n",
       "      <td>LVMH Moët Hennessy Louis Vuitton</td>\n",
       "      <td>False</td>\n",
       "      <td>M</td>\n",
       "      <td>1949-03-05</td>\n",
       "      <td>Chairman and CEO</td>\n",
       "      <td>NaN</td>\n",
       "      <td>NaN</td>\n",
       "      <td>NaN</td>\n",
       "      <td>Bernard Arnault oversees the LVMH empire of so...</td>\n",
       "      <td>Arnault apparently wooed his wife, Helene Merc...</td>\n",
       "    </tr>\n",
       "    <tr>\n",
       "      <th>3</th>\n",
       "      <td>4</td>\n",
       "      <td>Bill Gates</td>\n",
       "      <td>66.0</td>\n",
       "      <td>129000.0</td>\n",
       "      <td>2022</td>\n",
       "      <td>4</td>\n",
       "      <td>Technology</td>\n",
       "      <td>Microsoft</td>\n",
       "      <td>United States</td>\n",
       "      <td>Washington</td>\n",
       "      <td>...</td>\n",
       "      <td>Bill &amp; Melinda Gates Foundation</td>\n",
       "      <td>True</td>\n",
       "      <td>M</td>\n",
       "      <td>1955-10-28</td>\n",
       "      <td>Cofounder</td>\n",
       "      <td>4.0</td>\n",
       "      <td>Seattle-Tacoma-Bellevue, WA</td>\n",
       "      <td>NaN</td>\n",
       "      <td>Bill Gates turned his fortune from software fi...</td>\n",
       "      <td>When Gates was a kid, he spent so much time re...</td>\n",
       "    </tr>\n",
       "    <tr>\n",
       "      <th>4</th>\n",
       "      <td>5</td>\n",
       "      <td>Warren Buffett</td>\n",
       "      <td>91.0</td>\n",
       "      <td>118000.0</td>\n",
       "      <td>2022</td>\n",
       "      <td>4</td>\n",
       "      <td>Finance &amp; Investments</td>\n",
       "      <td>Berkshire Hathaway</td>\n",
       "      <td>United States</td>\n",
       "      <td>Nebraska</td>\n",
       "      <td>...</td>\n",
       "      <td>Berkshire Hathaway</td>\n",
       "      <td>True</td>\n",
       "      <td>M</td>\n",
       "      <td>1930-08-30</td>\n",
       "      <td>CEO</td>\n",
       "      <td>5.0</td>\n",
       "      <td>Omaha, NE</td>\n",
       "      <td>NaN</td>\n",
       "      <td>Known as the \"Oracle of Omaha,\" Warren Buffett...</td>\n",
       "      <td>Buffett still lives in the same Omaha, Nebrask...</td>\n",
       "    </tr>\n",
       "  </tbody>\n",
       "</table>\n",
       "<p>5 rows × 22 columns</p>\n",
       "</div>"
      ],
      "text/plain": [
       "   rank                personName   age  finalWorth  year  month  \\\n",
       "0     1                 Elon Musk  50.0    219000.0  2022      4   \n",
       "1     2                Jeff Bezos  58.0    171000.0  2022      4   \n",
       "2     3  Bernard Arnault & family  73.0    158000.0  2022      4   \n",
       "3     4                Bill Gates  66.0    129000.0  2022      4   \n",
       "4     5            Warren Buffett  91.0    118000.0  2022      4   \n",
       "\n",
       "                category              source        country       state  ...  \\\n",
       "0             Automotive       Tesla, SpaceX  United States       Texas  ...   \n",
       "1             Technology              Amazon  United States  Washington  ...   \n",
       "2       Fashion & Retail                LVMH         France         NaN  ...   \n",
       "3             Technology           Microsoft  United States  Washington  ...   \n",
       "4  Finance & Investments  Berkshire Hathaway  United States    Nebraska  ...   \n",
       "\n",
       "                       organization selfMade gender   birthDate  \\\n",
       "0                             Tesla     True      M  1971-06-28   \n",
       "1                            Amazon     True      M  1964-01-12   \n",
       "2  LVMH Moët Hennessy Louis Vuitton    False      M  1949-03-05   \n",
       "3   Bill & Melinda Gates Foundation     True      M  1955-10-28   \n",
       "4                Berkshire Hathaway     True      M  1930-08-30   \n",
       "\n",
       "              title philanthropyScore                 residenceMsa  \\\n",
       "0               CEO               1.0                          NaN   \n",
       "1      Entrepreneur               1.0  Seattle-Tacoma-Bellevue, WA   \n",
       "2  Chairman and CEO               NaN                          NaN   \n",
       "3         Cofounder               4.0  Seattle-Tacoma-Bellevue, WA   \n",
       "4               CEO               5.0                    Omaha, NE   \n",
       "\n",
       "   numberOfSiblings                                                bio  \\\n",
       "0               NaN  Elon Musk is working to revolutionize transpor...   \n",
       "1               NaN  Jeff Bezos founded e-commerce giant Amazon in ...   \n",
       "2               NaN  Bernard Arnault oversees the LVMH empire of so...   \n",
       "3               NaN  Bill Gates turned his fortune from software fi...   \n",
       "4               NaN  Known as the \"Oracle of Omaha,\" Warren Buffett...   \n",
       "\n",
       "                                               about  \n",
       "0  Musk was accepted to a graduate program at Sta...  \n",
       "1  Growing up, Jeff Bezos worked summers on his g...  \n",
       "2  Arnault apparently wooed his wife, Helene Merc...  \n",
       "3  When Gates was a kid, he spent so much time re...  \n",
       "4  Buffett still lives in the same Omaha, Nebrask...  \n",
       "\n",
       "[5 rows x 22 columns]"
      ]
     },
     "execution_count": 3,
     "metadata": {},
     "output_type": "execute_result"
    }
   ],
   "source": [
    "df.head()"
   ]
  },
  {
   "cell_type": "markdown",
   "id": "7879c2f5",
   "metadata": {},
   "source": [
    "# Determine the dimensions of a pandas DataFrame, where df represents the name of the DataFrame variable."
   ]
  },
  {
   "cell_type": "code",
   "execution_count": 6,
   "id": "b93696c3",
   "metadata": {},
   "outputs": [
    {
     "data": {
      "text/plain": [
       "(2668, 22)"
      ]
     },
     "execution_count": 6,
     "metadata": {},
     "output_type": "execute_result"
    }
   ],
   "source": [
    "df.shape"
   ]
  },
  {
   "cell_type": "markdown",
   "id": "84af0ce4",
   "metadata": {},
   "source": [
    "# Retrieve the column names of a pandas DataFrame, where df represents the name of the DataFrame variable."
   ]
  },
  {
   "cell_type": "code",
   "execution_count": 7,
   "id": "5ec05c6c",
   "metadata": {},
   "outputs": [
    {
     "data": {
      "text/plain": [
       "Index(['rank', 'personName', 'age', 'finalWorth', 'year', 'month', 'category',\n",
       "       'source', 'country', 'state', 'city', 'countryOfCitizenship',\n",
       "       'organization', 'selfMade', 'gender', 'birthDate', 'title',\n",
       "       'philanthropyScore', 'residenceMsa', 'numberOfSiblings', 'bio',\n",
       "       'about'],\n",
       "      dtype='object')"
      ]
     },
     "execution_count": 7,
     "metadata": {},
     "output_type": "execute_result"
    }
   ],
   "source": [
    "df.columns"
   ]
  },
  {
   "cell_type": "markdown",
   "id": "2c3a8b31",
   "metadata": {},
   "source": [
    "# Data Preprocessing"
   ]
  },
  {
   "cell_type": "markdown",
   "id": "e0301052",
   "metadata": {},
   "source": [
    "# Select specific columns from a pandas DataFrame and assign them back to the variable df. Take columns ([\"rank\",\"personName\",\"age\",\"finalWorth\",\"category\",\"country\",\"gender\"])"
   ]
  },
  {
   "cell_type": "code",
   "execution_count": 9,
   "id": "ff8c82fd",
   "metadata": {},
   "outputs": [
    {
     "data": {
      "text/html": [
       "<div>\n",
       "<style scoped>\n",
       "    .dataframe tbody tr th:only-of-type {\n",
       "        vertical-align: middle;\n",
       "    }\n",
       "\n",
       "    .dataframe tbody tr th {\n",
       "        vertical-align: top;\n",
       "    }\n",
       "\n",
       "    .dataframe thead th {\n",
       "        text-align: right;\n",
       "    }\n",
       "</style>\n",
       "<table border=\"1\" class=\"dataframe\">\n",
       "  <thead>\n",
       "    <tr style=\"text-align: right;\">\n",
       "      <th></th>\n",
       "      <th>rank</th>\n",
       "      <th>personName</th>\n",
       "      <th>age</th>\n",
       "      <th>finalWorth</th>\n",
       "      <th>category</th>\n",
       "      <th>country</th>\n",
       "      <th>gender</th>\n",
       "    </tr>\n",
       "  </thead>\n",
       "  <tbody>\n",
       "    <tr>\n",
       "      <th>0</th>\n",
       "      <td>1</td>\n",
       "      <td>Elon Musk</td>\n",
       "      <td>50.0</td>\n",
       "      <td>219000.0</td>\n",
       "      <td>Automotive</td>\n",
       "      <td>United States</td>\n",
       "      <td>M</td>\n",
       "    </tr>\n",
       "    <tr>\n",
       "      <th>1</th>\n",
       "      <td>2</td>\n",
       "      <td>Jeff Bezos</td>\n",
       "      <td>58.0</td>\n",
       "      <td>171000.0</td>\n",
       "      <td>Technology</td>\n",
       "      <td>United States</td>\n",
       "      <td>M</td>\n",
       "    </tr>\n",
       "    <tr>\n",
       "      <th>2</th>\n",
       "      <td>3</td>\n",
       "      <td>Bernard Arnault &amp; family</td>\n",
       "      <td>73.0</td>\n",
       "      <td>158000.0</td>\n",
       "      <td>Fashion &amp; Retail</td>\n",
       "      <td>France</td>\n",
       "      <td>M</td>\n",
       "    </tr>\n",
       "    <tr>\n",
       "      <th>3</th>\n",
       "      <td>4</td>\n",
       "      <td>Bill Gates</td>\n",
       "      <td>66.0</td>\n",
       "      <td>129000.0</td>\n",
       "      <td>Technology</td>\n",
       "      <td>United States</td>\n",
       "      <td>M</td>\n",
       "    </tr>\n",
       "    <tr>\n",
       "      <th>4</th>\n",
       "      <td>5</td>\n",
       "      <td>Warren Buffett</td>\n",
       "      <td>91.0</td>\n",
       "      <td>118000.0</td>\n",
       "      <td>Finance &amp; Investments</td>\n",
       "      <td>United States</td>\n",
       "      <td>M</td>\n",
       "    </tr>\n",
       "  </tbody>\n",
       "</table>\n",
       "</div>"
      ],
      "text/plain": [
       "   rank                personName   age  finalWorth               category  \\\n",
       "0     1                 Elon Musk  50.0    219000.0             Automotive   \n",
       "1     2                Jeff Bezos  58.0    171000.0             Technology   \n",
       "2     3  Bernard Arnault & family  73.0    158000.0       Fashion & Retail   \n",
       "3     4                Bill Gates  66.0    129000.0             Technology   \n",
       "4     5            Warren Buffett  91.0    118000.0  Finance & Investments   \n",
       "\n",
       "         country gender  \n",
       "0  United States      M  \n",
       "1  United States      M  \n",
       "2         France      M  \n",
       "3  United States      M  \n",
       "4  United States      M  "
      ]
     },
     "execution_count": 9,
     "metadata": {},
     "output_type": "execute_result"
    }
   ],
   "source": [
    "df =  df.loc[:, [\"rank\",\"personName\",\"age\",\"finalWorth\",\"category\",\"country\",\"gender\"]]\n",
    "df.head()"
   ]
  },
  {
   "cell_type": "code",
   "execution_count": null,
   "id": "4f3b1a1f",
   "metadata": {},
   "outputs": [],
   "source": []
  },
  {
   "cell_type": "markdown",
   "id": "cca30b63",
   "metadata": {},
   "source": [
    "# Set a specific column as the index of a pandas DataFrame.In this case (\"rank\")"
   ]
  },
  {
   "cell_type": "code",
   "execution_count": 10,
   "id": "0aca69fa",
   "metadata": {},
   "outputs": [],
   "source": [
    "df = df.set_index(\"rank\")"
   ]
  },
  {
   "cell_type": "code",
   "execution_count": 11,
   "id": "50810238",
   "metadata": {},
   "outputs": [
    {
     "data": {
      "text/html": [
       "<div>\n",
       "<style scoped>\n",
       "    .dataframe tbody tr th:only-of-type {\n",
       "        vertical-align: middle;\n",
       "    }\n",
       "\n",
       "    .dataframe tbody tr th {\n",
       "        vertical-align: top;\n",
       "    }\n",
       "\n",
       "    .dataframe thead th {\n",
       "        text-align: right;\n",
       "    }\n",
       "</style>\n",
       "<table border=\"1\" class=\"dataframe\">\n",
       "  <thead>\n",
       "    <tr style=\"text-align: right;\">\n",
       "      <th></th>\n",
       "      <th>personName</th>\n",
       "      <th>age</th>\n",
       "      <th>finalWorth</th>\n",
       "      <th>category</th>\n",
       "      <th>country</th>\n",
       "      <th>gender</th>\n",
       "    </tr>\n",
       "    <tr>\n",
       "      <th>rank</th>\n",
       "      <th></th>\n",
       "      <th></th>\n",
       "      <th></th>\n",
       "      <th></th>\n",
       "      <th></th>\n",
       "      <th></th>\n",
       "    </tr>\n",
       "  </thead>\n",
       "  <tbody>\n",
       "    <tr>\n",
       "      <th>1</th>\n",
       "      <td>Elon Musk</td>\n",
       "      <td>50.0</td>\n",
       "      <td>219000.0</td>\n",
       "      <td>Automotive</td>\n",
       "      <td>United States</td>\n",
       "      <td>M</td>\n",
       "    </tr>\n",
       "    <tr>\n",
       "      <th>2</th>\n",
       "      <td>Jeff Bezos</td>\n",
       "      <td>58.0</td>\n",
       "      <td>171000.0</td>\n",
       "      <td>Technology</td>\n",
       "      <td>United States</td>\n",
       "      <td>M</td>\n",
       "    </tr>\n",
       "    <tr>\n",
       "      <th>3</th>\n",
       "      <td>Bernard Arnault &amp; family</td>\n",
       "      <td>73.0</td>\n",
       "      <td>158000.0</td>\n",
       "      <td>Fashion &amp; Retail</td>\n",
       "      <td>France</td>\n",
       "      <td>M</td>\n",
       "    </tr>\n",
       "    <tr>\n",
       "      <th>4</th>\n",
       "      <td>Bill Gates</td>\n",
       "      <td>66.0</td>\n",
       "      <td>129000.0</td>\n",
       "      <td>Technology</td>\n",
       "      <td>United States</td>\n",
       "      <td>M</td>\n",
       "    </tr>\n",
       "    <tr>\n",
       "      <th>5</th>\n",
       "      <td>Warren Buffett</td>\n",
       "      <td>91.0</td>\n",
       "      <td>118000.0</td>\n",
       "      <td>Finance &amp; Investments</td>\n",
       "      <td>United States</td>\n",
       "      <td>M</td>\n",
       "    </tr>\n",
       "  </tbody>\n",
       "</table>\n",
       "</div>"
      ],
      "text/plain": [
       "                    personName   age  finalWorth               category  \\\n",
       "rank                                                                      \n",
       "1                    Elon Musk  50.0    219000.0             Automotive   \n",
       "2                   Jeff Bezos  58.0    171000.0             Technology   \n",
       "3     Bernard Arnault & family  73.0    158000.0       Fashion & Retail   \n",
       "4                   Bill Gates  66.0    129000.0             Technology   \n",
       "5               Warren Buffett  91.0    118000.0  Finance & Investments   \n",
       "\n",
       "            country gender  \n",
       "rank                        \n",
       "1     United States      M  \n",
       "2     United States      M  \n",
       "3            France      M  \n",
       "4     United States      M  \n",
       "5     United States      M  "
      ]
     },
     "execution_count": 11,
     "metadata": {},
     "output_type": "execute_result"
    }
   ],
   "source": [
    "df.head()"
   ]
  },
  {
   "cell_type": "markdown",
   "id": "0ccd54d2",
   "metadata": {},
   "source": [
    "# Check datatype of every column in dataframe df"
   ]
  },
  {
   "cell_type": "code",
   "execution_count": 12,
   "id": "7c634d35",
   "metadata": {},
   "outputs": [
    {
     "data": {
      "text/plain": [
       "personName     object\n",
       "age           float64\n",
       "finalWorth    float64\n",
       "category       object\n",
       "country        object\n",
       "gender         object\n",
       "dtype: object"
      ]
     },
     "execution_count": 12,
     "metadata": {},
     "output_type": "execute_result"
    }
   ],
   "source": [
    "df.dtypes"
   ]
  },
  {
   "cell_type": "markdown",
   "id": "2ecb725a",
   "metadata": {},
   "source": [
    "# Count the number of missing or null values in each column of a pandas DataFrame df."
   ]
  },
  {
   "cell_type": "code",
   "execution_count": 13,
   "id": "5d3321dc",
   "metadata": {},
   "outputs": [
    {
     "data": {
      "text/plain": [
       "personName     0\n",
       "age           86\n",
       "finalWorth     0\n",
       "category       0\n",
       "country       13\n",
       "gender        16\n",
       "dtype: int64"
      ]
     },
     "execution_count": 13,
     "metadata": {},
     "output_type": "execute_result"
    }
   ],
   "source": [
    "df.isnull().sum()"
   ]
  },
  {
   "cell_type": "markdown",
   "id": "df3e944f",
   "metadata": {},
   "source": [
    "# Remove rows with missing or null values from a pandas DataFrame df."
   ]
  },
  {
   "cell_type": "code",
   "execution_count": 14,
   "id": "5594abc0",
   "metadata": {},
   "outputs": [],
   "source": [
    "df.dropna(inplace = True)"
   ]
  },
  {
   "cell_type": "markdown",
   "id": "248b5ef1",
   "metadata": {},
   "source": [
    "# Again check the dimensions of a pandas DataFrame, where df represents the name of the DataFrame variable"
   ]
  },
  {
   "cell_type": "code",
   "execution_count": 16,
   "id": "7c8eecbd",
   "metadata": {},
   "outputs": [
    {
     "data": {
      "text/plain": [
       "(2568, 6)"
      ]
     },
     "execution_count": 16,
     "metadata": {},
     "output_type": "execute_result"
    }
   ],
   "source": [
    "df.shape"
   ]
  },
  {
   "cell_type": "markdown",
   "id": "23c6b5cf",
   "metadata": {},
   "source": [
    "# Informations about gender of the richest in the world"
   ]
  },
  {
   "cell_type": "markdown",
   "id": "8de36958",
   "metadata": {},
   "source": [
    "# Count the occurrences of each unique value in a specific column of a pandas DataFrame df."
   ]
  },
  {
   "cell_type": "code",
   "execution_count": 17,
   "id": "36d3b74a",
   "metadata": {},
   "outputs": [
    {
     "data": {
      "text/plain": [
       "gender\n",
       "M    2282\n",
       "F     286\n",
       "Name: count, dtype: int64"
      ]
     },
     "execution_count": 17,
     "metadata": {},
     "output_type": "execute_result"
    }
   ],
   "source": [
    "df[\"gender\"].value_counts()"
   ]
  },
  {
   "cell_type": "markdown",
   "id": "afa037f2",
   "metadata": {},
   "source": [
    "# Calculate the relative frequencies or proportions of each unique value in a specific column of a pandas DataFrame df."
   ]
  },
  {
   "cell_type": "code",
   "execution_count": 18,
   "id": "58f3c8c1",
   "metadata": {},
   "outputs": [
    {
     "data": {
      "text/plain": [
       "gender\n",
       "M    0.888629\n",
       "F    0.111371\n",
       "Name: proportion, dtype: float64"
      ]
     },
     "execution_count": 18,
     "metadata": {},
     "output_type": "execute_result"
    }
   ],
   "source": [
    "df[\"gender\"].value_counts(normalize = True)"
   ]
  },
  {
   "cell_type": "markdown",
   "id": "6c4b1f6c",
   "metadata": {},
   "source": [
    "# Calculate the relative frequencies or proportions of each unique value in the \"gender\" column, specifically for the rows where the \"country\" column is equal to \"France\" in a pandas DataFrame df."
   ]
  },
  {
   "cell_type": "code",
   "execution_count": 20,
   "id": "32f0282d",
   "metadata": {},
   "outputs": [
    {
     "data": {
      "text/plain": [
       "gender\n",
       "M    0.878788\n",
       "F    0.121212\n",
       "Name: proportion, dtype: float64"
      ]
     },
     "execution_count": 20,
     "metadata": {},
     "output_type": "execute_result"
    }
   ],
   "source": [
    "df[df[\"country\"] == 'France'].gender.value_counts(normalize = True)"
   ]
  },
  {
   "cell_type": "markdown",
   "id": "fbd51994",
   "metadata": {},
   "source": [
    "# Retrieve an array of unique values in the \"country\" column of a pandas DataFrame df"
   ]
  },
  {
   "cell_type": "code",
   "execution_count": 21,
   "id": "b44be4e0",
   "metadata": {},
   "outputs": [
    {
     "data": {
      "text/plain": [
       "array(['United States', 'France', 'India', 'Mexico', 'China', 'Singapore',\n",
       "       'Spain', 'Canada', 'Germany', 'Switzerland', 'Belgium',\n",
       "       'Hong Kong', 'United Kingdom', 'Australia', 'Austria', 'Italy',\n",
       "       'Japan', 'Bahamas', 'Indonesia', 'Chile', 'Russia', 'Sweden',\n",
       "       'Czechia', 'Monaco', 'United Arab Emirates', 'Nigeria', 'Denmark',\n",
       "       'Thailand', 'Malaysia', 'Brazil', 'Colombia', 'New Zealand',\n",
       "       'South Korea', 'South Africa', 'Philippines', 'Egypt', 'Taiwan',\n",
       "       'Israel', 'Vietnam', 'Poland', 'Norway', 'Cayman Islands',\n",
       "       'Netherlands', 'Eswatini (Swaziland)', 'Peru', 'Algeria',\n",
       "       'Kazakhstan', 'Georgia', 'Portugal', 'British Virgin Islands',\n",
       "       'Turkey', 'Finland', 'Ukraine', 'Ireland', 'Bermuda', 'Lebanon',\n",
       "       'Argentina', 'Cambodia', 'Oman', 'Guernsey', 'Liechtenstein',\n",
       "       'Turks and Caicos Islands', 'Qatar', 'Morocco', 'Uruguay',\n",
       "       'Slovakia', 'Romania', 'Nepal', 'Tanzania', 'Bahrain', 'Greece',\n",
       "       'Hungary', 'Andorra'], dtype=object)"
      ]
     },
     "execution_count": 21,
     "metadata": {},
     "output_type": "execute_result"
    }
   ],
   "source": [
    "df[\"country\"].unique()"
   ]
  },
  {
   "cell_type": "markdown",
   "id": "cddfcfe0",
   "metadata": {},
   "source": [
    "# Calculate the relative frequencies or proportions of each unique value in the \"gender\" column, specifically for the rows where the \"country\" column is equal to \"Canada\" in a pandas DataFrame df."
   ]
  },
  {
   "cell_type": "code",
   "execution_count": 22,
   "id": "e40deb6b",
   "metadata": {},
   "outputs": [
    {
     "data": {
      "text/plain": [
       "gender\n",
       "M    0.952381\n",
       "F    0.047619\n",
       "Name: proportion, dtype: float64"
      ]
     },
     "execution_count": 22,
     "metadata": {},
     "output_type": "execute_result"
    }
   ],
   "source": [
    "df[df[\"country\"] == 'Canada'].gender.value_counts(normalize = True)"
   ]
  },
  {
   "cell_type": "markdown",
   "id": "8e96f3b2",
   "metadata": {},
   "source": [
    "# Group a pandas DataFrame df based on the unique values in the \"gender\" column."
   ]
  },
  {
   "cell_type": "code",
   "execution_count": 23,
   "id": "be6992d4",
   "metadata": {},
   "outputs": [],
   "source": [
    "df_gender = df.groupby([\"gender\"])"
   ]
  },
  {
   "cell_type": "markdown",
   "id": "a8ba719e",
   "metadata": {},
   "source": [
    "# Calculate the mean (average) value of the \"age\" column within each group of a grouped pandas DataFrame df_gender."
   ]
  },
  {
   "cell_type": "code",
   "execution_count": null,
   "id": "d9ffd61b",
   "metadata": {},
   "outputs": [],
   "source": []
  },
  {
   "cell_type": "markdown",
   "id": "65767e16",
   "metadata": {},
   "source": [
    "# Import the seaborn library and set its theme. Adjust the DPI (dots per inch) setting for the figures. Additionally, import the warnings module and sets it to ignore warnings."
   ]
  },
  {
   "cell_type": "code",
   "execution_count": null,
   "id": "5c5a0b7b",
   "metadata": {},
   "outputs": [],
   "source": []
  },
  {
   "cell_type": "markdown",
   "id": "18552bd6",
   "metadata": {},
   "source": [
    "# Create a bar plot representing the size or count of each group within a grouped pandas DataFrame df_gender."
   ]
  },
  {
   "cell_type": "code",
   "execution_count": null,
   "id": "fc292357",
   "metadata": {},
   "outputs": [],
   "source": []
  },
  {
   "cell_type": "markdown",
   "id": "4dbb8506",
   "metadata": {},
   "source": [
    "## Who are the top 10 richest in the world?"
   ]
  },
  {
   "cell_type": "markdown",
   "id": "c9afcb62",
   "metadata": {},
   "source": [
    "# Create a bar plot. It represents the top 10 individuals' names (personName) and their corresponding final worth (finalWorth) from a pandas DataFrame df"
   ]
  },
  {
   "cell_type": "code",
   "execution_count": null,
   "id": "222c2bf6",
   "metadata": {},
   "outputs": [],
   "source": []
  },
  {
   "cell_type": "markdown",
   "id": "e68c5bbe",
   "metadata": {},
   "source": [
    "## Which country has the highest number of billionaires?"
   ]
  },
  {
   "cell_type": "markdown",
   "id": "78614572",
   "metadata": {},
   "source": [
    "# Calculate the number of unique values in the \"country\" column of a pandas DataFrame df."
   ]
  },
  {
   "cell_type": "code",
   "execution_count": null,
   "id": "592eefdf",
   "metadata": {},
   "outputs": [],
   "source": []
  },
  {
   "cell_type": "markdown",
   "id": "4057c403",
   "metadata": {},
   "source": [
    "# Group a pandas DataFrame df based on the unique values in the \"country\" column."
   ]
  },
  {
   "cell_type": "code",
   "execution_count": null,
   "id": "735d0233",
   "metadata": {},
   "outputs": [],
   "source": []
  },
  {
   "cell_type": "markdown",
   "id": "f02dad72",
   "metadata": {},
   "source": [
    "# Obtain a new DataFrame df_country_number that contains two columns: \"country\" (index) and \"number\" (count/size). The DataFrame is sorted in descending order based on the group sizes, providing a summary of the number of data points or individuals for each country in the dataset."
   ]
  },
  {
   "cell_type": "code",
   "execution_count": null,
   "id": "5113b1c9",
   "metadata": {},
   "outputs": [],
   "source": []
  },
  {
   "cell_type": "code",
   "execution_count": null,
   "id": "04656dd8",
   "metadata": {},
   "outputs": [],
   "source": []
  },
  {
   "cell_type": "markdown",
   "id": "0da2c363",
   "metadata": {},
   "source": [
    "# Create a bar plot. It should represent the top 10 countries (index) and their corresponding group sizes (number) from a DataFrame df_country_number."
   ]
  },
  {
   "cell_type": "code",
   "execution_count": null,
   "id": "c07bc75b",
   "metadata": {},
   "outputs": [],
   "source": []
  },
  {
   "cell_type": "markdown",
   "id": "f80be375",
   "metadata": {},
   "source": [
    "## Who are the Top 10 richest in the France?"
   ]
  },
  {
   "cell_type": "markdown",
   "id": "33e69997",
   "metadata": {},
   "source": [
    "# Create a new DataFrame df_France by filtering the original DataFrame df to include only the rows where the \"country\" column is equal to \"France\"."
   ]
  },
  {
   "cell_type": "code",
   "execution_count": null,
   "id": "3c2795a7",
   "metadata": {},
   "outputs": [],
   "source": []
  },
  {
   "cell_type": "markdown",
   "id": "19b87157",
   "metadata": {},
   "source": [
    "# Calculate the count of non-null values in the \"personName\" column of the DataFrame df_France."
   ]
  },
  {
   "cell_type": "code",
   "execution_count": null,
   "id": "6aa8bb60",
   "metadata": {},
   "outputs": [],
   "source": []
  },
  {
   "cell_type": "code",
   "execution_count": null,
   "id": "415e05a1",
   "metadata": {},
   "outputs": [],
   "source": []
  },
  {
   "cell_type": "markdown",
   "id": "865927b5",
   "metadata": {},
   "source": [
    "# Use the seaborn library to create a bar plot. It should represent the top 10 individuals' names (personName) and their corresponding final worth (finalWorth) specifically for the subset of data where the country is \"France\" (DataFrame df_France)."
   ]
  },
  {
   "cell_type": "code",
   "execution_count": null,
   "id": "eabeabbb",
   "metadata": {},
   "outputs": [],
   "source": []
  },
  {
   "cell_type": "markdown",
   "id": "8b1f22ec",
   "metadata": {},
   "source": [
    "## Which Industry has the most billionaires in it?"
   ]
  },
  {
   "cell_type": "markdown",
   "id": "69aabc6f",
   "metadata": {},
   "source": [
    "# Retrieve an array of unique values from the \"category\" column of a pandas DataFrame df."
   ]
  },
  {
   "cell_type": "code",
   "execution_count": null,
   "id": "31b761ce",
   "metadata": {},
   "outputs": [],
   "source": []
  },
  {
   "cell_type": "markdown",
   "id": "0e5bad55",
   "metadata": {},
   "source": [
    "# Modify the values in the \"category\" column of a pandas DataFrame df. Removes spaces and replace ampersands with underscores in each category value."
   ]
  },
  {
   "cell_type": "code",
   "execution_count": null,
   "id": "7f1d969c",
   "metadata": {},
   "outputs": [],
   "source": []
  },
  {
   "cell_type": "markdown",
   "id": "f16f5c8e",
   "metadata": {},
   "source": [
    "# Retrieve an array of unique values from the modified \"category\" column of a pandas DataFrame df"
   ]
  },
  {
   "cell_type": "code",
   "execution_count": null,
   "id": "ddc0a2e0",
   "metadata": {},
   "outputs": [],
   "source": []
  },
  {
   "cell_type": "markdown",
   "id": "1b9f5764",
   "metadata": {},
   "source": [
    "# Group the pandas DataFrame df based on the unique values in the \"category\" column and calculate the size or count of each group."
   ]
  },
  {
   "cell_type": "code",
   "execution_count": null,
   "id": "3db37986",
   "metadata": {},
   "outputs": [],
   "source": []
  },
  {
   "cell_type": "code",
   "execution_count": null,
   "id": "e9e966ce",
   "metadata": {},
   "outputs": [],
   "source": []
  },
  {
   "cell_type": "markdown",
   "id": "f8f38dcd",
   "metadata": {},
   "source": [
    "# Convert the pandas Series df_category into a DataFrame df_category."
   ]
  },
  {
   "cell_type": "code",
   "execution_count": null,
   "id": "f934b2e8",
   "metadata": {},
   "outputs": [],
   "source": []
  },
  {
   "cell_type": "code",
   "execution_count": null,
   "id": "0a156b79",
   "metadata": {},
   "outputs": [],
   "source": []
  },
  {
   "cell_type": "markdown",
   "id": "7ab3444a",
   "metadata": {},
   "source": [
    "# Rename the column of a DataFrame df_category to \"numbers\" and sorts the DataFrame based on the \"numbers\" column in descending order."
   ]
  },
  {
   "cell_type": "code",
   "execution_count": null,
   "id": "dd304570",
   "metadata": {},
   "outputs": [],
   "source": []
  },
  {
   "cell_type": "markdown",
   "id": "3ac9d653",
   "metadata": {},
   "source": [
    "# Utilizing the seaborn library to create a bar plot. It should represent the top 10 categories (index) and their corresponding count or size (numbers) from the DataFrame df_category."
   ]
  },
  {
   "cell_type": "code",
   "execution_count": null,
   "id": "784bc941",
   "metadata": {},
   "outputs": [],
   "source": []
  },
  {
   "cell_type": "markdown",
   "id": "5a7a9dff",
   "metadata": {},
   "source": [
    "## Is there a relationship between money and age?"
   ]
  },
  {
   "cell_type": "markdown",
   "id": "9e5b9301",
   "metadata": {},
   "source": [
    "# Utilizing the seaborn library to create a scatter plot. It should represent the relationship between the \"age\" and \"finalWorth\" variables from the DataFrame df."
   ]
  },
  {
   "cell_type": "code",
   "execution_count": null,
   "id": "5e432619",
   "metadata": {},
   "outputs": [],
   "source": []
  },
  {
   "cell_type": "markdown",
   "id": "20abc0f5",
   "metadata": {},
   "source": [
    "## The distribution of age"
   ]
  },
  {
   "cell_type": "markdown",
   "id": "36e64753",
   "metadata": {},
   "source": [
    "# Utilizing the seaborn library to create a histogram plot. It should represent the distribution of values in the \"age\" variable from the DataFrame df."
   ]
  },
  {
   "cell_type": "code",
   "execution_count": null,
   "id": "ba544adc",
   "metadata": {},
   "outputs": [],
   "source": []
  },
  {
   "cell_type": "markdown",
   "id": "99a2ffff",
   "metadata": {},
   "source": [
    "## The youngest billionaires"
   ]
  },
  {
   "cell_type": "markdown",
   "id": "4231a887",
   "metadata": {},
   "source": [
    "# Firs sort the DataFrame df based on the values in the \"age\" column and assigns the sorted DataFrame to a new DataFrame df_age."
   ]
  },
  {
   "cell_type": "code",
   "execution_count": null,
   "id": "5d11195b",
   "metadata": {},
   "outputs": [],
   "source": []
  },
  {
   "cell_type": "markdown",
   "id": "a944a42f",
   "metadata": {},
   "source": [
    "# Use the seaborn library to create a bar plot. It should represent the top 10 individuals' names (personName) and their corresponding ages (age) from the sorted DataFrame df_age."
   ]
  },
  {
   "cell_type": "code",
   "execution_count": null,
   "id": "0f82fbfd",
   "metadata": {},
   "outputs": [],
   "source": []
  }
 ],
 "metadata": {
  "kernelspec": {
   "display_name": "Python 3 (ipykernel)",
   "language": "python",
   "name": "python3"
  },
  "language_info": {
   "codemirror_mode": {
    "name": "ipython",
    "version": 3
   },
   "file_extension": ".py",
   "mimetype": "text/x-python",
   "name": "python",
   "nbconvert_exporter": "python",
   "pygments_lexer": "ipython3",
   "version": "3.9.13"
  }
 },
 "nbformat": 4,
 "nbformat_minor": 5
}
