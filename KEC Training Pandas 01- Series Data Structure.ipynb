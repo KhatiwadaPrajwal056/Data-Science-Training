{
 "cells": [
  {
   "cell_type": "markdown",
   "id": "a3600edf",
   "metadata": {},
   "source": [
    "# First import Pandas "
   ]
  },
  {
   "cell_type": "code",
   "execution_count": 3,
   "id": "387d3136",
   "metadata": {},
   "outputs": [],
   "source": [
    "import pandas as pd"
   ]
  },
  {
   "cell_type": "markdown",
   "id": "c19ea08c",
   "metadata": {},
   "source": [
    "# Creating Pandas Series object and storing some values in it ?"
   ]
  },
  {
   "cell_type": "code",
   "execution_count": 5,
   "id": "5257fc69",
   "metadata": {},
   "outputs": [
    {
     "data": {
      "text/plain": [
       "0       1\n",
       "1    John\n",
       "2     3.5\n",
       "3     Hey\n",
       "dtype: object"
      ]
     },
     "execution_count": 5,
     "metadata": {},
     "output_type": "execute_result"
    }
   ],
   "source": [
    "obj = pd.Series([1,\"John\", 3.5, \"Hey\"]) \n",
    "obj"
   ]
  },
  {
   "cell_type": "markdown",
   "id": "d14b1cb5",
   "metadata": {},
   "source": [
    "# Retrieve the value at the first position using indexing"
   ]
  },
  {
   "cell_type": "code",
   "execution_count": 7,
   "id": "53188cba",
   "metadata": {},
   "outputs": [
    {
     "data": {
      "text/plain": [
       "'John'"
      ]
     },
     "execution_count": 7,
     "metadata": {},
     "output_type": "execute_result"
    }
   ],
   "source": [
    "obj[1]"
   ]
  },
  {
   "cell_type": "markdown",
   "id": "cdc8a25f",
   "metadata": {},
   "source": [
    "# Retrieve the underlying array of values from the 'obj' Series object."
   ]
  },
  {
   "cell_type": "code",
   "execution_count": 8,
   "id": "640e2850",
   "metadata": {},
   "outputs": [
    {
     "data": {
      "text/plain": [
       "array([1, 'John', 3.5, 'Hey'], dtype=object)"
      ]
     },
     "execution_count": 8,
     "metadata": {},
     "output_type": "execute_result"
    }
   ],
   "source": [
    "obj.values"
   ]
  },
  {
   "cell_type": "markdown",
   "id": "307dcdf3",
   "metadata": {},
   "source": [
    "# Create a pandas Series object named 'obj2'also add additional parameter specified: index=[\"a\",\"b\",\"c\",\"d\"]. and Check the putput"
   ]
  },
  {
   "cell_type": "code",
   "execution_count": 9,
   "id": "651ec63a",
   "metadata": {},
   "outputs": [
    {
     "data": {
      "text/plain": [
       "a       1\n",
       "b    John\n",
       "c     3.5\n",
       "d     Hey\n",
       "dtype: object"
      ]
     },
     "execution_count": 9,
     "metadata": {},
     "output_type": "execute_result"
    }
   ],
   "source": [
    "obj2 = pd.Series([1,\"John\", 3.5, \"Hey\"], index = [\"a\", \"b\", \"c\", \"d\"])\n",
    "obj2"
   ]
  },
  {
   "cell_type": "code",
   "execution_count": 13,
   "id": "b52ec11f",
   "metadata": {},
   "outputs": [
    {
     "data": {
      "text/plain": [
       "1"
      ]
     },
     "execution_count": 13,
     "metadata": {},
     "output_type": "execute_result"
    }
   ],
   "source": [
    "obj2[\"a\"]"
   ]
  },
  {
   "cell_type": "markdown",
   "id": "a520c8e5",
   "metadata": {},
   "source": [
    "# Retrieve the index labels associated with the 'obj2' Series object."
   ]
  },
  {
   "cell_type": "code",
   "execution_count": 14,
   "id": "9ad5505a",
   "metadata": {},
   "outputs": [
    {
     "data": {
      "text/plain": [
       "'John'"
      ]
     },
     "execution_count": 14,
     "metadata": {},
     "output_type": "execute_result"
    }
   ],
   "source": [
    "obj2[\"b\"]"
   ]
  },
  {
   "cell_type": "code",
   "execution_count": 16,
   "id": "68665503",
   "metadata": {},
   "outputs": [
    {
     "data": {
      "text/plain": [
       "Index(['a', 'b', 'c', 'd'], dtype='object')"
      ]
     },
     "execution_count": 16,
     "metadata": {},
     "output_type": "execute_result"
    }
   ],
   "source": [
    "obj2.index"
   ]
  },
  {
   "cell_type": "markdown",
   "id": "aa92c0dc",
   "metadata": {},
   "source": [
    "# Create a dictionary named 'score' that contains key-value pairs representing the names of individuals as keys and their corresponding scores as values and then convert the 'score' dictionary into a pandas Series object named 'names' using the pd.Series() function"
   ]
  },
  {
   "cell_type": "code",
   "execution_count": 20,
   "id": "f1f32b5e",
   "metadata": {},
   "outputs": [
    {
     "data": {
      "text/plain": [
       "Jane    90\n",
       "Bill    80\n",
       "Elon    85\n",
       "Tom     75\n",
       "Tim     95\n",
       "dtype: int64"
      ]
     },
     "execution_count": 20,
     "metadata": {},
     "output_type": "execute_result"
    }
   ],
   "source": [
    "score = {\"Jane\" : 90, \"Bill\" : 80, \"Elon\" : 85, \"Tom\": 75, \"Tim\" : 95}\n",
    "score\n",
    "names = pd.Series(score)\n",
    "names\n",
    "\n"
   ]
  },
  {
   "cell_type": "markdown",
   "id": "cfe1d429",
   "metadata": {},
   "source": [
    "# Retrieve the value associated with the index label \"Tim\" from the 'names' Series."
   ]
  },
  {
   "cell_type": "code",
   "execution_count": 23,
   "id": "aa04d4a8",
   "metadata": {},
   "outputs": [
    {
     "data": {
      "text/plain": [
       "95"
      ]
     },
     "execution_count": 23,
     "metadata": {},
     "output_type": "execute_result"
    }
   ],
   "source": [
    "names[\"Tim\"]"
   ]
  },
  {
   "cell_type": "markdown",
   "id": "e90702ff",
   "metadata": {},
   "source": [
    "# Select the entries from the 'names' Series where the score is 85 or higher. The result should be a subset of the 'names' Series that satisfies the given condition."
   ]
  },
  {
   "cell_type": "code",
   "execution_count": 24,
   "id": "a73cf483",
   "metadata": {},
   "outputs": [
    {
     "data": {
      "text/plain": [
       "Jane    90\n",
       "Elon    85\n",
       "Tim     95\n",
       "dtype: int64"
      ]
     },
     "execution_count": 24,
     "metadata": {},
     "output_type": "execute_result"
    }
   ],
   "source": [
    "names[names >= 85]"
   ]
  },
  {
   "cell_type": "markdown",
   "id": "d926f5eb",
   "metadata": {},
   "source": [
    "# Assign a new value of example= 60 to the existing index label \"Tom\" in the 'names' Series."
   ]
  },
  {
   "cell_type": "code",
   "execution_count": 25,
   "id": "2867cb06",
   "metadata": {},
   "outputs": [
    {
     "data": {
      "text/plain": [
       "Jane    90\n",
       "Bill    80\n",
       "Elon    85\n",
       "Tom     60\n",
       "Tim     95\n",
       "dtype: int64"
      ]
     },
     "execution_count": 25,
     "metadata": {},
     "output_type": "execute_result"
    }
   ],
   "source": [
    "names[\"Tom\"] = 60\n",
    "names"
   ]
  },
  {
   "cell_type": "markdown",
   "id": "c7bc3a49",
   "metadata": {},
   "source": [
    "# Modify the 'names' Series by assigning a new value of 83 to the elements where the corresponding score is less than or equal to 80."
   ]
  },
  {
   "cell_type": "code",
   "execution_count": 26,
   "id": "8591e2a6",
   "metadata": {},
   "outputs": [
    {
     "data": {
      "text/plain": [
       "Jane    90\n",
       "Bill    83\n",
       "Elon    85\n",
       "Tom     83\n",
       "Tim     95\n",
       "dtype: int64"
      ]
     },
     "execution_count": 26,
     "metadata": {},
     "output_type": "execute_result"
    }
   ],
   "source": [
    "names[names<=80] = 83\n",
    "names"
   ]
  },
  {
   "cell_type": "markdown",
   "id": "71a175b2",
   "metadata": {},
   "source": [
    "# Take a membership tests that check whether the strings \"Tom\" and \"Can\" are present as index labels in the 'names' Series."
   ]
  },
  {
   "cell_type": "code",
   "execution_count": 27,
   "id": "d4de9b27",
   "metadata": {},
   "outputs": [
    {
     "data": {
      "text/plain": [
       "True"
      ]
     },
     "execution_count": 27,
     "metadata": {},
     "output_type": "execute_result"
    }
   ],
   "source": [
    "\"Tom\" in names"
   ]
  },
  {
   "cell_type": "code",
   "execution_count": 28,
   "id": "4a37214f",
   "metadata": {},
   "outputs": [
    {
     "data": {
      "text/plain": [
       "False"
      ]
     },
     "execution_count": 28,
     "metadata": {},
     "output_type": "execute_result"
    }
   ],
   "source": [
    "\"Can\" in names"
   ]
  },
  {
   "cell_type": "markdown",
   "id": "0494ba5d",
   "metadata": {},
   "source": [
    "# Perform an element-wise division on the 'names' Series by dividing each score by 10."
   ]
  },
  {
   "cell_type": "code",
   "execution_count": 29,
   "id": "e3e268be",
   "metadata": {},
   "outputs": [
    {
     "data": {
      "text/plain": [
       "Jane    9.0\n",
       "Bill    8.3\n",
       "Elon    8.5\n",
       "Tom     8.3\n",
       "Tim     9.5\n",
       "dtype: float64"
      ]
     },
     "execution_count": 29,
     "metadata": {},
     "output_type": "execute_result"
    }
   ],
   "source": [
    "names/10"
   ]
  },
  {
   "cell_type": "markdown",
   "id": "6f92413d",
   "metadata": {},
   "source": [
    "# Perform an element-wise exponentiation on the 'names' Series by squaring each score."
   ]
  },
  {
   "cell_type": "code",
   "execution_count": 30,
   "id": "7e67664f",
   "metadata": {},
   "outputs": [
    {
     "data": {
      "text/plain": [
       "Jane    8100\n",
       "Bill    6889\n",
       "Elon    7225\n",
       "Tom     6889\n",
       "Tim     9025\n",
       "dtype: int64"
      ]
     },
     "execution_count": 30,
     "metadata": {},
     "output_type": "execute_result"
    }
   ],
   "source": [
    "names ** 2"
   ]
  },
  {
   "cell_type": "markdown",
   "id": "1874b0fe",
   "metadata": {},
   "source": [
    "# Check for any missing or null values in the 'names' Series"
   ]
  },
  {
   "cell_type": "code",
   "execution_count": 31,
   "id": "69770ee2",
   "metadata": {},
   "outputs": [
    {
     "data": {
      "text/plain": [
       "Jane    False\n",
       "Bill    False\n",
       "Elon    False\n",
       "Tom     False\n",
       "Tim     False\n",
       "dtype: bool"
      ]
     },
     "execution_count": 31,
     "metadata": {},
     "output_type": "execute_result"
    }
   ],
   "source": [
    "names.isnull()"
   ]
  }
 ],
 "metadata": {
  "kernelspec": {
   "display_name": "Python 3 (ipykernel)",
   "language": "python",
   "name": "python3"
  },
  "language_info": {
   "codemirror_mode": {
    "name": "ipython",
    "version": 3
   },
   "file_extension": ".py",
   "mimetype": "text/x-python",
   "name": "python",
   "nbconvert_exporter": "python",
   "pygments_lexer": "ipython3",
   "version": "3.9.13"
  }
 },
 "nbformat": 4,
 "nbformat_minor": 5
}
