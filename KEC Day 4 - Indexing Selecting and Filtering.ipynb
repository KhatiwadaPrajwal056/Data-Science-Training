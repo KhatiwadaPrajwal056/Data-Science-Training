{
 "cells": [
  {
   "cell_type": "markdown",
   "id": "676f31f9",
   "metadata": {},
   "source": [
    "<h1 style = \"color:blue\" >Indexing Selecting and Filtering </h1>"
   ]
  },
  {
   "cell_type": "markdown",
   "id": "1305e375",
   "metadata": {},
   "source": [
    "# Import Pandas and Numpys"
   ]
  },
  {
   "cell_type": "code",
   "execution_count": 1,
   "id": "bd843f57",
   "metadata": {},
   "outputs": [],
   "source": [
    "import numpy as np\n",
    "import pandas as pd"
   ]
  },
  {
   "cell_type": "markdown",
   "id": "97e9d8f6",
   "metadata": {},
   "source": [
    "# Create a pandas Series object called \"obj\". The Series object must contain values ranging from 0 to 4, and each value should be assigned an index label. The index labels should be set as \"a\", \"b\", \"c\", \"d\", and \"e\""
   ]
  },
  {
   "cell_type": "code",
   "execution_count": 2,
   "id": "868efaa7",
   "metadata": {},
   "outputs": [
    {
     "data": {
      "text/plain": [
       "a    0\n",
       "b    1\n",
       "c    2\n",
       "d    3\n",
       "e    4\n",
       "dtype: int64"
      ]
     },
     "execution_count": 2,
     "metadata": {},
     "output_type": "execute_result"
    }
   ],
   "source": [
    "obj = pd.Series(np.arange(5),\n",
    "               index = ['a', 'b', 'c','d','e'])\n",
    "obj"
   ]
  },
  {
   "cell_type": "markdown",
   "id": "c05c550d",
   "metadata": {},
   "source": [
    "# Retrieve the value associated with the index label \"c\" from the Series object. Return the value that corresponds to the index label \"c\" in the Series"
   ]
  },
  {
   "cell_type": "code",
   "execution_count": 3,
   "id": "799af1d5",
   "metadata": {},
   "outputs": [
    {
     "data": {
      "text/plain": [
       "2"
      ]
     },
     "execution_count": 3,
     "metadata": {},
     "output_type": "execute_result"
    }
   ],
   "source": [
    "obj[\"c\"]"
   ]
  },
  {
   "cell_type": "markdown",
   "id": "93a91d1c",
   "metadata": {},
   "source": [
    "# Retrieve a subset of values from the Series object using slicing. It should return the values from index position 0 up to, but not including, index position 3."
   ]
  },
  {
   "cell_type": "code",
   "execution_count": 4,
   "id": "53652e18",
   "metadata": {},
   "outputs": [
    {
     "data": {
      "text/plain": [
       "a    0\n",
       "b    1\n",
       "c    2\n",
       "dtype: int64"
      ]
     },
     "execution_count": 4,
     "metadata": {},
     "output_type": "execute_result"
    }
   ],
   "source": [
    "obj[:3]"
   ]
  },
  {
   "cell_type": "markdown",
   "id": "fbc562ec",
   "metadata": {},
   "source": [
    "# Retrieve a subset of values from the Series object \"obj\" by passing a list of index labels as the indexing parameter"
   ]
  },
  {
   "cell_type": "code",
   "execution_count": 7,
   "id": "7ff6b603",
   "metadata": {},
   "outputs": [
    {
     "data": {
      "text/plain": [
       "a    0\n",
       "c    2\n",
       "dtype: int64"
      ]
     },
     "execution_count": 7,
     "metadata": {},
     "output_type": "execute_result"
    }
   ],
   "source": [
    "obj[[\"a\" , \"c\"]]"
   ]
  },
  {
   "cell_type": "markdown",
   "id": "1eb2fb7f",
   "metadata": {},
   "source": [
    "# Return a new Series object that includes only the values at the specified index positions 0 and 2. In other words, it should select and return the elements in the Series at the positions 0 and 2."
   ]
  },
  {
   "cell_type": "code",
   "execution_count": 8,
   "id": "752337b8",
   "metadata": {},
   "outputs": [
    {
     "data": {
      "text/plain": [
       "a    0\n",
       "c    2\n",
       "dtype: int64"
      ]
     },
     "execution_count": 8,
     "metadata": {},
     "output_type": "execute_result"
    }
   ],
   "source": [
    "obj[[0,2]]"
   ]
  },
  {
   "cell_type": "markdown",
   "id": "9ad7af2f",
   "metadata": {},
   "source": [
    "# Return a new Series object that includes only the values from the original Series where the corresponding value is less than 2. "
   ]
  },
  {
   "cell_type": "code",
   "execution_count": 9,
   "id": "6e5b53c5",
   "metadata": {},
   "outputs": [
    {
     "data": {
      "text/plain": [
       "a    0\n",
       "b    1\n",
       "dtype: int64"
      ]
     },
     "execution_count": 9,
     "metadata": {},
     "output_type": "execute_result"
    }
   ],
   "source": [
    "obj[obj<2]"
   ]
  },
  {
   "cell_type": "markdown",
   "id": "19fff5e3",
   "metadata": {},
   "source": [
    "# Using slicing to retrieve a subset of values from the Series object \"obj\" based on index labels. It should return a new Series object that includes the values from the original Series starting from the index label \"a\" up to and including the index label \"c\"."
   ]
  },
  {
   "cell_type": "code",
   "execution_count": 10,
   "id": "9eab5261",
   "metadata": {},
   "outputs": [
    {
     "data": {
      "text/plain": [
       "a    0\n",
       "b    1\n",
       "c    2\n",
       "dtype: int64"
      ]
     },
     "execution_count": 10,
     "metadata": {},
     "output_type": "execute_result"
    }
   ],
   "source": [
    "obj [\"a\": \"c\"]"
   ]
  },
  {
   "cell_type": "markdown",
   "id": "c04bc06e",
   "metadata": {},
   "source": [
    "# Assign the value 5 to the subset of values in the Series object \"obj\" between the index labels \"b\" and \"c\", inclusive."
   ]
  },
  {
   "cell_type": "code",
   "execution_count": 12,
   "id": "6b79f686",
   "metadata": {},
   "outputs": [
    {
     "data": {
      "text/plain": [
       "a    0\n",
       "b    5\n",
       "c    5\n",
       "d    3\n",
       "e    4\n",
       "dtype: int64"
      ]
     },
     "execution_count": 12,
     "metadata": {},
     "output_type": "execute_result"
    }
   ],
   "source": [
    "obj[\"b\":\"c\"]=5\n",
    "obj"
   ]
  },
  {
   "cell_type": "markdown",
   "id": "3f95c441",
   "metadata": {},
   "source": [
    "# Dataframe Indexing"
   ]
  },
  {
   "cell_type": "markdown",
   "id": "2de8c6db",
   "metadata": {},
   "source": [
    "# Create a pandas DataFrame object named \"data\". The DataFrame should be constructed with a 4x4 array of values obtained from reshaping the numbers 0 to 15. The array should be reshaped into a 4x4 matrix. Additionally, it should specify the row index labels as \"London\", \"Paris\", \"Berlin\", and \"Istanbul\", and column labels as \"one\", \"two\", \"three\", and \"four\"."
   ]
  },
  {
   "cell_type": "code",
   "execution_count": 13,
   "id": "b056309e",
   "metadata": {},
   "outputs": [
    {
     "data": {
      "text/html": [
       "<div>\n",
       "<style scoped>\n",
       "    .dataframe tbody tr th:only-of-type {\n",
       "        vertical-align: middle;\n",
       "    }\n",
       "\n",
       "    .dataframe tbody tr th {\n",
       "        vertical-align: top;\n",
       "    }\n",
       "\n",
       "    .dataframe thead th {\n",
       "        text-align: right;\n",
       "    }\n",
       "</style>\n",
       "<table border=\"1\" class=\"dataframe\">\n",
       "  <thead>\n",
       "    <tr style=\"text-align: right;\">\n",
       "      <th></th>\n",
       "      <th>one</th>\n",
       "      <th>two</th>\n",
       "      <th>three</th>\n",
       "      <th>four</th>\n",
       "    </tr>\n",
       "  </thead>\n",
       "  <tbody>\n",
       "    <tr>\n",
       "      <th>London</th>\n",
       "      <td>0</td>\n",
       "      <td>1</td>\n",
       "      <td>2</td>\n",
       "      <td>3</td>\n",
       "    </tr>\n",
       "    <tr>\n",
       "      <th>Paris</th>\n",
       "      <td>4</td>\n",
       "      <td>5</td>\n",
       "      <td>6</td>\n",
       "      <td>7</td>\n",
       "    </tr>\n",
       "    <tr>\n",
       "      <th>Berlin</th>\n",
       "      <td>8</td>\n",
       "      <td>9</td>\n",
       "      <td>10</td>\n",
       "      <td>11</td>\n",
       "    </tr>\n",
       "    <tr>\n",
       "      <th>Istanbul</th>\n",
       "      <td>12</td>\n",
       "      <td>13</td>\n",
       "      <td>14</td>\n",
       "      <td>15</td>\n",
       "    </tr>\n",
       "  </tbody>\n",
       "</table>\n",
       "</div>"
      ],
      "text/plain": [
       "          one  two  three  four\n",
       "London      0    1      2     3\n",
       "Paris       4    5      6     7\n",
       "Berlin      8    9     10    11\n",
       "Istanbul   12   13     14    15"
      ]
     },
     "execution_count": 13,
     "metadata": {},
     "output_type": "execute_result"
    }
   ],
   "source": [
    "data = pd.DataFrame(\n",
    "    np.arange(16).reshape(4,4),\n",
    "    index = [\"London\", \"Paris\", \"Berlin\", \"Istanbul\"],\n",
    "    columns = [\"one\", \"two\", 'three', 'four']\n",
    ")\n",
    "data"
   ]
  },
  {
   "cell_type": "markdown",
   "id": "3f05bb25",
   "metadata": {},
   "source": [
    "# Retrieve the column labeled \"two\" from the DataFrame object \"data\". It should return a pandas Series object that contains the values from the \"two\" column."
   ]
  },
  {
   "cell_type": "code",
   "execution_count": 14,
   "id": "61eb2b54",
   "metadata": {},
   "outputs": [
    {
     "data": {
      "text/plain": [
       "London       1\n",
       "Paris        5\n",
       "Berlin       9\n",
       "Istanbul    13\n",
       "Name: two, dtype: int64"
      ]
     },
     "execution_count": 14,
     "metadata": {},
     "output_type": "execute_result"
    }
   ],
   "source": [
    "data[\"two\"]"
   ]
  },
  {
   "cell_type": "markdown",
   "id": "ec6d5027",
   "metadata": {},
   "source": [
    "# Using slicing to retrieve a subset of rows from the DataFrame object \"data\". It should return a new DataFrame object that includes the first three rows from the original DataFrame. In other words, it should select and return the rows from index position 0 up to, but not including, index position 3."
   ]
  },
  {
   "cell_type": "code",
   "execution_count": 17,
   "id": "ca9ee524",
   "metadata": {},
   "outputs": [
    {
     "data": {
      "text/html": [
       "<div>\n",
       "<style scoped>\n",
       "    .dataframe tbody tr th:only-of-type {\n",
       "        vertical-align: middle;\n",
       "    }\n",
       "\n",
       "    .dataframe tbody tr th {\n",
       "        vertical-align: top;\n",
       "    }\n",
       "\n",
       "    .dataframe thead th {\n",
       "        text-align: right;\n",
       "    }\n",
       "</style>\n",
       "<table border=\"1\" class=\"dataframe\">\n",
       "  <thead>\n",
       "    <tr style=\"text-align: right;\">\n",
       "      <th></th>\n",
       "      <th>one</th>\n",
       "      <th>two</th>\n",
       "      <th>three</th>\n",
       "      <th>four</th>\n",
       "    </tr>\n",
       "  </thead>\n",
       "  <tbody>\n",
       "    <tr>\n",
       "      <th>London</th>\n",
       "      <td>0</td>\n",
       "      <td>1</td>\n",
       "      <td>2</td>\n",
       "      <td>3</td>\n",
       "    </tr>\n",
       "    <tr>\n",
       "      <th>Paris</th>\n",
       "      <td>4</td>\n",
       "      <td>5</td>\n",
       "      <td>6</td>\n",
       "      <td>7</td>\n",
       "    </tr>\n",
       "    <tr>\n",
       "      <th>Berlin</th>\n",
       "      <td>8</td>\n",
       "      <td>9</td>\n",
       "      <td>10</td>\n",
       "      <td>11</td>\n",
       "    </tr>\n",
       "  </tbody>\n",
       "</table>\n",
       "</div>"
      ],
      "text/plain": [
       "        one  two  three  four\n",
       "London    0    1      2     3\n",
       "Paris     4    5      6     7\n",
       "Berlin    8    9     10    11"
      ]
     },
     "execution_count": 17,
     "metadata": {},
     "output_type": "execute_result"
    }
   ],
   "source": [
    "data[:3]"
   ]
  },
  {
   "cell_type": "markdown",
   "id": "9724779f",
   "metadata": {},
   "source": [
    "# Return a new DataFrame object that includes only the rows where the value in the \"four\" column is greater than 5."
   ]
  },
  {
   "cell_type": "code",
   "execution_count": 18,
   "id": "bed77968",
   "metadata": {},
   "outputs": [
    {
     "data": {
      "text/html": [
       "<div>\n",
       "<style scoped>\n",
       "    .dataframe tbody tr th:only-of-type {\n",
       "        vertical-align: middle;\n",
       "    }\n",
       "\n",
       "    .dataframe tbody tr th {\n",
       "        vertical-align: top;\n",
       "    }\n",
       "\n",
       "    .dataframe thead th {\n",
       "        text-align: right;\n",
       "    }\n",
       "</style>\n",
       "<table border=\"1\" class=\"dataframe\">\n",
       "  <thead>\n",
       "    <tr style=\"text-align: right;\">\n",
       "      <th></th>\n",
       "      <th>one</th>\n",
       "      <th>two</th>\n",
       "      <th>three</th>\n",
       "      <th>four</th>\n",
       "    </tr>\n",
       "  </thead>\n",
       "  <tbody>\n",
       "    <tr>\n",
       "      <th>Paris</th>\n",
       "      <td>4</td>\n",
       "      <td>5</td>\n",
       "      <td>6</td>\n",
       "      <td>7</td>\n",
       "    </tr>\n",
       "    <tr>\n",
       "      <th>Berlin</th>\n",
       "      <td>8</td>\n",
       "      <td>9</td>\n",
       "      <td>10</td>\n",
       "      <td>11</td>\n",
       "    </tr>\n",
       "    <tr>\n",
       "      <th>Istanbul</th>\n",
       "      <td>12</td>\n",
       "      <td>13</td>\n",
       "      <td>14</td>\n",
       "      <td>15</td>\n",
       "    </tr>\n",
       "  </tbody>\n",
       "</table>\n",
       "</div>"
      ],
      "text/plain": [
       "          one  two  three  four\n",
       "Paris       4    5      6     7\n",
       "Berlin      8    9     10    11\n",
       "Istanbul   12   13     14    15"
      ]
     },
     "execution_count": 18,
     "metadata": {},
     "output_type": "execute_result"
    }
   ],
   "source": [
    "data[data[\"four\"]>5]"
   ]
  },
  {
   "cell_type": "markdown",
   "id": "2d2dd272",
   "metadata": {},
   "source": [
    "# Modify the DataFrame object \"data\" by replacing all values that are less than 5 with 0. It should check each element in the DataFrame and replace it with 0 if it is less than 5."
   ]
  },
  {
   "cell_type": "code",
   "execution_count": 19,
   "id": "1b104773",
   "metadata": {},
   "outputs": [
    {
     "data": {
      "text/html": [
       "<div>\n",
       "<style scoped>\n",
       "    .dataframe tbody tr th:only-of-type {\n",
       "        vertical-align: middle;\n",
       "    }\n",
       "\n",
       "    .dataframe tbody tr th {\n",
       "        vertical-align: top;\n",
       "    }\n",
       "\n",
       "    .dataframe thead th {\n",
       "        text-align: right;\n",
       "    }\n",
       "</style>\n",
       "<table border=\"1\" class=\"dataframe\">\n",
       "  <thead>\n",
       "    <tr style=\"text-align: right;\">\n",
       "      <th></th>\n",
       "      <th>one</th>\n",
       "      <th>two</th>\n",
       "      <th>three</th>\n",
       "      <th>four</th>\n",
       "    </tr>\n",
       "  </thead>\n",
       "  <tbody>\n",
       "    <tr>\n",
       "      <th>London</th>\n",
       "      <td>0</td>\n",
       "      <td>0</td>\n",
       "      <td>0</td>\n",
       "      <td>0</td>\n",
       "    </tr>\n",
       "    <tr>\n",
       "      <th>Paris</th>\n",
       "      <td>0</td>\n",
       "      <td>5</td>\n",
       "      <td>6</td>\n",
       "      <td>7</td>\n",
       "    </tr>\n",
       "    <tr>\n",
       "      <th>Berlin</th>\n",
       "      <td>8</td>\n",
       "      <td>9</td>\n",
       "      <td>10</td>\n",
       "      <td>11</td>\n",
       "    </tr>\n",
       "    <tr>\n",
       "      <th>Istanbul</th>\n",
       "      <td>12</td>\n",
       "      <td>13</td>\n",
       "      <td>14</td>\n",
       "      <td>15</td>\n",
       "    </tr>\n",
       "  </tbody>\n",
       "</table>\n",
       "</div>"
      ],
      "text/plain": [
       "          one  two  three  four\n",
       "London      0    0      0     0\n",
       "Paris       0    5      6     7\n",
       "Berlin      8    9     10    11\n",
       "Istanbul   12   13     14    15"
      ]
     },
     "execution_count": 19,
     "metadata": {},
     "output_type": "execute_result"
    }
   ],
   "source": [
    "data [data < 5]= 0\n",
    "data"
   ]
  },
  {
   "cell_type": "markdown",
   "id": "39881262",
   "metadata": {},
   "source": [
    "# Selection with loc and iloc"
   ]
  },
  {
   "cell_type": "markdown",
   "id": "b3a311e7",
   "metadata": {},
   "source": [
    "# loc: This feature is label-based indexing, meaning it allows you to access data based on the labels of rows and columns.  You can use the loc indexer to select specific rows or columns using their labels.  It accepts label-based slicing, single labels, or a boolean array. For example:\n",
    "\n"
   ]
  },
  {
   "cell_type": "markdown",
   "id": "17d3a84d",
   "metadata": {},
   "source": [
    "df.loc[row_label] retrieves a specific row based on its label.<br>\n",
    "df.loc[row_label, column_label] retrieves a specific element based on row and column labels.<br>\n",
    "df.loc[start_row_label:end_row_label, start_column_label:end_column_label] retrieves a subset of rows and columns based on label ranges."
   ]
  },
  {
   "cell_type": "markdown",
   "id": "9f0f9e20",
   "metadata": {},
   "source": [
    "# iloc: This feature is integer-based indexing, allowing you to access data using integer indices of rows and columns. It enables you to select specific rows or columns based on their integer positions, starting from 0. For example:"
   ]
  },
  {
   "cell_type": "markdown",
   "id": "f1623264",
   "metadata": {},
   "source": [
    "df.iloc[row_index] retrieves a specific row based on its integer index. <br>\n",
    "df.iloc[row_index, column_index] retrieves a specific element based on row and column indices.<br>\n",
    "df.iloc[start_row_index:end_row_index, start_column_index:end_column_index] retrieves a subset of rows and columns based on index ranges."
   ]
  },
  {
   "cell_type": "markdown",
   "id": "ef212aef",
   "metadata": {},
   "source": [
    "# Retrieve the second row of the DataFrame object \"data\" using integer-based indexing. It should return a pandas Series object that contains the values from the second row of the DataFrame."
   ]
  },
  {
   "cell_type": "code",
   "execution_count": 22,
   "id": "4f8ce7d2",
   "metadata": {},
   "outputs": [
    {
     "data": {
      "text/plain": [
       "one      0\n",
       "two      5\n",
       "three    6\n",
       "four     7\n",
       "Name: Paris, dtype: int64"
      ]
     },
     "execution_count": 22,
     "metadata": {},
     "output_type": "execute_result"
    }
   ],
   "source": [
    "data.iloc[1]"
   ]
  },
  {
   "cell_type": "markdown",
   "id": "0ac53a71",
   "metadata": {},
   "source": [
    "# Retrieve specific elements from the DataFrame object \"data\" using integer-based indexing. It should return a new DataFrame object that includes the values from the second row (index position 1) and the specified columns."
   ]
  },
  {
   "cell_type": "code",
   "execution_count": 26,
   "id": "3119787e",
   "metadata": {},
   "outputs": [
    {
     "data": {
      "text/plain": [
       "two      5\n",
       "three    6\n",
       "four     7\n",
       "Name: Paris, dtype: int64"
      ]
     },
     "execution_count": 26,
     "metadata": {},
     "output_type": "execute_result"
    }
   ],
   "source": [
    "data.iloc[1,[1,2,3]]"
   ]
  },
  {
   "cell_type": "markdown",
   "id": "629fecc6",
   "metadata": {},
   "source": [
    "# Retrieve specific elements from the DataFrame object \"data\" using label-based indexing. It should return a new DataFrame object that includes the values from the row with the label \"Paris\""
   ]
  },
  {
   "cell_type": "code",
   "execution_count": 27,
   "id": "413404d3",
   "metadata": {},
   "outputs": [
    {
     "data": {
      "text/plain": [
       "one      0\n",
       "two      5\n",
       "three    6\n",
       "four     7\n",
       "Name: Paris, dtype: int64"
      ]
     },
     "execution_count": 27,
     "metadata": {},
     "output_type": "execute_result"
    }
   ],
   "source": [
    "data.loc[\"Paris\"]"
   ]
  },
  {
   "cell_type": "markdown",
   "id": "2b51c1c2",
   "metadata": {},
   "source": [
    "# Retrieve a subset of values from the DataFrame object \"data\" using label-based indexing. It should return a new Series object that includes the values from the \"four\" column, but only for the rows up to and including the row labeled \"Paris\""
   ]
  },
  {
   "cell_type": "code",
   "execution_count": 28,
   "id": "5f2129e2",
   "metadata": {},
   "outputs": [
    {
     "data": {
      "text/plain": [
       "London    0\n",
       "Paris     7\n",
       "Name: four, dtype: int64"
      ]
     },
     "execution_count": 28,
     "metadata": {},
     "output_type": "execute_result"
    }
   ],
   "source": [
    "data.loc[:\"Paris\", \"four\"]"
   ]
  },
  {
   "cell_type": "markdown",
   "id": "31c497f9",
   "metadata": {},
   "source": [
    "# Task"
   ]
  },
  {
   "cell_type": "markdown",
   "id": "06bbcd34",
   "metadata": {},
   "source": [
    "# Create a pandas Series object named \"toy_data\". The Series is constructed with values ranging from 0 to 4, obtained using np.arange(5), and iassign index labels \"a\", \"b\", \"c\", \"d\", and \"e\" to each value."
   ]
  },
  {
   "cell_type": "code",
   "execution_count": 31,
   "id": "cc96c977",
   "metadata": {},
   "outputs": [
    {
     "data": {
      "text/plain": [
       "0    0\n",
       "1    1\n",
       "2    2\n",
       "3    3\n",
       "4    4\n",
       "dtype: int64"
      ]
     },
     "execution_count": 31,
     "metadata": {},
     "output_type": "execute_result"
    }
   ],
   "source": [
    "toy_data = pd.Series(np.arange(5))\n",
    "toy_data"
   ]
  },
  {
   "cell_type": "markdown",
   "id": "07a37c58",
   "metadata": {},
   "source": [
    "# Retrieve the value from the Series object \"toy_data\" at the index position -1.  Negative indices are used to access elements from the end of a sequence. In this case, it should select and return the last value in the Series."
   ]
  },
  {
   "cell_type": "code",
   "execution_count": 30,
   "id": "816a26a8",
   "metadata": {},
   "outputs": [
    {
     "data": {
      "text/plain": [
       "4"
      ]
     },
     "execution_count": 30,
     "metadata": {},
     "output_type": "execute_result"
    }
   ],
   "source": [
    "toy_data[-1]"
   ]
  }
 ],
 "metadata": {
  "kernelspec": {
   "display_name": "Python 3 (ipykernel)",
   "language": "python",
   "name": "python3"
  },
  "language_info": {
   "codemirror_mode": {
    "name": "ipython",
    "version": 3
   },
   "file_extension": ".py",
   "mimetype": "text/x-python",
   "name": "python",
   "nbconvert_exporter": "python",
   "pygments_lexer": "ipython3",
   "version": "3.9.13"
  }
 },
 "nbformat": 4,
 "nbformat_minor": 5
}
