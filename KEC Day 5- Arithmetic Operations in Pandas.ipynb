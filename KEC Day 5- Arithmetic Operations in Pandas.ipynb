{
 "cells": [
  {
   "cell_type": "markdown",
   "id": "9a2e9414",
   "metadata": {},
   "source": [
    "<h1 style=\"color:blue\">Arithmetic Operations in Pandas</h1>"
   ]
  },
  {
   "cell_type": "markdown",
   "id": "358c3442",
   "metadata": {},
   "source": [
    "# Import numpys and pandas"
   ]
  },
  {
   "cell_type": "code",
   "execution_count": 1,
   "id": "c6615e94",
   "metadata": {},
   "outputs": [],
   "source": [
    "import numpy as np\n",
    "import pandas as pd"
   ]
  },
  {
   "cell_type": "markdown",
   "id": "d2bb63ad",
   "metadata": {},
   "source": [
    "# Create two pd.Series objects, s1 and s2, using the NumPy library and assign them to variables. "
   ]
  },
  {
   "cell_type": "code",
   "execution_count": 2,
   "id": "cc72f2d5",
   "metadata": {},
   "outputs": [
    {
     "name": "stdout",
     "output_type": "stream",
     "text": [
      "a    0\n",
      "c    1\n",
      "d    2\n",
      "e    3\n",
      "dtype: int64\n",
      "a    0\n",
      "c    1\n",
      "e    2\n",
      "f    3\n",
      "g    4\n",
      "dtype: int64\n"
     ]
    }
   ],
   "source": [
    "s1 = pd.Series (np.arange(4), index = ['a', 'c','d','e'])\n",
    "s2= pd.Series(np.arange(5), index = ['a', 'c','e','f','g'])\n",
    "print(s1)\n",
    "print(s2)"
   ]
  },
  {
   "cell_type": "markdown",
   "id": "306bc2d7",
   "metadata": {},
   "source": [
    "# Perform an addition operation between the two pd.Series objects s1 and s2"
   ]
  },
  {
   "cell_type": "code",
   "execution_count": 3,
   "id": "07803260",
   "metadata": {},
   "outputs": [
    {
     "data": {
      "text/plain": [
       "a    0.0\n",
       "c    2.0\n",
       "d    NaN\n",
       "e    5.0\n",
       "f    NaN\n",
       "g    NaN\n",
       "dtype: float64"
      ]
     },
     "execution_count": 3,
     "metadata": {},
     "output_type": "execute_result"
    }
   ],
   "source": [
    "s1+s2"
   ]
  },
  {
   "cell_type": "markdown",
   "id": "fa7b7a40",
   "metadata": {},
   "source": [
    "# Create two pandas DataFrames, df1 and df2, using the NumPy library. \n",
    "\n",
    "# For df 1\n",
    "Using numpys arange and reshape argument generate a sequence of numbers from 0 to 5 and reshape it into 2 x 3 matrix\n",
    "The columns parameter is set to list(\"ABC\"), which assigns column labels \"A\", \"B\", and \"C\" to the DataFrame columns. \n",
    "The index parameter is set to [\"Tim\", \"Tom\"], providing row labels for the DataFrame.\n",
    "\n",
    "# For df2\n",
    "Generates a sequence of numbers from 0 to 8 and reshapes it into a 3x3 array. <br>\n",
    "The columns parameter is set to list(\"ACD\"), which assigns column labels \"A\", \"C\", and \"D\" to the DataFrame columns. <br>\n",
    "The index parameter is set to [\"Tim\", \"Kate\", \"Tom\"], providing row labels for the DataFrame. "
   ]
  },
  {
   "cell_type": "code",
   "execution_count": 7,
   "id": "01c6c50f",
   "metadata": {},
   "outputs": [
    {
     "name": "stdout",
     "output_type": "stream",
     "text": [
      "     A  B  C\n",
      "Tim  0  1  2\n",
      "Tom  3  4  5\n",
      "      A  C  D\n",
      "Tim   0  1  2\n",
      "Kate  3  4  5\n",
      "Tom   6  7  8\n"
     ]
    }
   ],
   "source": [
    "df1 = pd.DataFrame(np.arange(6).reshape(2,3),\n",
    "                  index = [\"Tim\", \"Tom\"],\n",
    "                  columns = list(\"ABC\"))\n",
    "df2 = pd.DataFrame(np.arange(9).reshape(3,3),\n",
    "                  index= [\"Tim\", \"Kate\", \"Tom\"],\n",
    "                  columns = list('ACD'))\n",
    "print(df1)\n",
    "print(df2)"
   ]
  },
  {
   "cell_type": "markdown",
   "id": "397845ed",
   "metadata": {},
   "source": [
    "# Perform an addition operation between the two pandas DataFrames df1 and df2. When performing arithmetic operations on DataFrames, the operation should be aligned based on both the column labels and the index labels."
   ]
  },
  {
   "cell_type": "code",
   "execution_count": 8,
   "id": "5d29895f",
   "metadata": {},
   "outputs": [
    {
     "data": {
      "text/html": [
       "<div>\n",
       "<style scoped>\n",
       "    .dataframe tbody tr th:only-of-type {\n",
       "        vertical-align: middle;\n",
       "    }\n",
       "\n",
       "    .dataframe tbody tr th {\n",
       "        vertical-align: top;\n",
       "    }\n",
       "\n",
       "    .dataframe thead th {\n",
       "        text-align: right;\n",
       "    }\n",
       "</style>\n",
       "<table border=\"1\" class=\"dataframe\">\n",
       "  <thead>\n",
       "    <tr style=\"text-align: right;\">\n",
       "      <th></th>\n",
       "      <th>A</th>\n",
       "      <th>B</th>\n",
       "      <th>C</th>\n",
       "      <th>D</th>\n",
       "    </tr>\n",
       "  </thead>\n",
       "  <tbody>\n",
       "    <tr>\n",
       "      <th>Kate</th>\n",
       "      <td>NaN</td>\n",
       "      <td>NaN</td>\n",
       "      <td>NaN</td>\n",
       "      <td>NaN</td>\n",
       "    </tr>\n",
       "    <tr>\n",
       "      <th>Tim</th>\n",
       "      <td>0.0</td>\n",
       "      <td>NaN</td>\n",
       "      <td>3.0</td>\n",
       "      <td>NaN</td>\n",
       "    </tr>\n",
       "    <tr>\n",
       "      <th>Tom</th>\n",
       "      <td>9.0</td>\n",
       "      <td>NaN</td>\n",
       "      <td>12.0</td>\n",
       "      <td>NaN</td>\n",
       "    </tr>\n",
       "  </tbody>\n",
       "</table>\n",
       "</div>"
      ],
      "text/plain": [
       "        A   B     C   D\n",
       "Kate  NaN NaN   NaN NaN\n",
       "Tim   0.0 NaN   3.0 NaN\n",
       "Tom   9.0 NaN  12.0 NaN"
      ]
     },
     "execution_count": 8,
     "metadata": {},
     "output_type": "execute_result"
    }
   ],
   "source": [
    "df1 + df2"
   ]
  },
  {
   "cell_type": "markdown",
   "id": "6779ad21",
   "metadata": {},
   "source": [
    "# Perform an addition operation between the two pandas DataFrames df1 and df2, while filling missing values with 0. Use The add() function to perform element-wise addition between the two DataFrames, and fill_value parameter to  0 to replace any missing values with 0 during the addition."
   ]
  },
  {
   "cell_type": "code",
   "execution_count": 9,
   "id": "cf836313",
   "metadata": {},
   "outputs": [
    {
     "data": {
      "text/html": [
       "<div>\n",
       "<style scoped>\n",
       "    .dataframe tbody tr th:only-of-type {\n",
       "        vertical-align: middle;\n",
       "    }\n",
       "\n",
       "    .dataframe tbody tr th {\n",
       "        vertical-align: top;\n",
       "    }\n",
       "\n",
       "    .dataframe thead th {\n",
       "        text-align: right;\n",
       "    }\n",
       "</style>\n",
       "<table border=\"1\" class=\"dataframe\">\n",
       "  <thead>\n",
       "    <tr style=\"text-align: right;\">\n",
       "      <th></th>\n",
       "      <th>A</th>\n",
       "      <th>B</th>\n",
       "      <th>C</th>\n",
       "      <th>D</th>\n",
       "    </tr>\n",
       "  </thead>\n",
       "  <tbody>\n",
       "    <tr>\n",
       "      <th>Kate</th>\n",
       "      <td>3.0</td>\n",
       "      <td>NaN</td>\n",
       "      <td>4.0</td>\n",
       "      <td>5.0</td>\n",
       "    </tr>\n",
       "    <tr>\n",
       "      <th>Tim</th>\n",
       "      <td>0.0</td>\n",
       "      <td>1.0</td>\n",
       "      <td>3.0</td>\n",
       "      <td>2.0</td>\n",
       "    </tr>\n",
       "    <tr>\n",
       "      <th>Tom</th>\n",
       "      <td>9.0</td>\n",
       "      <td>4.0</td>\n",
       "      <td>12.0</td>\n",
       "      <td>8.0</td>\n",
       "    </tr>\n",
       "  </tbody>\n",
       "</table>\n",
       "</div>"
      ],
      "text/plain": [
       "        A    B     C    D\n",
       "Kate  3.0  NaN   4.0  5.0\n",
       "Tim   0.0  1.0   3.0  2.0\n",
       "Tom   9.0  4.0  12.0  8.0"
      ]
     },
     "execution_count": 9,
     "metadata": {},
     "output_type": "execute_result"
    }
   ],
   "source": [
    "df1.add(df2, fill_value=0)"
   ]
  },
  {
   "cell_type": "markdown",
   "id": "2bd65131",
   "metadata": {},
   "source": [
    "# Perform element-wise division on the DataFrame df1, where each element is divided by 1."
   ]
  },
  {
   "cell_type": "code",
   "execution_count": 10,
   "id": "84d28b9e",
   "metadata": {},
   "outputs": [
    {
     "data": {
      "text/html": [
       "<div>\n",
       "<style scoped>\n",
       "    .dataframe tbody tr th:only-of-type {\n",
       "        vertical-align: middle;\n",
       "    }\n",
       "\n",
       "    .dataframe tbody tr th {\n",
       "        vertical-align: top;\n",
       "    }\n",
       "\n",
       "    .dataframe thead th {\n",
       "        text-align: right;\n",
       "    }\n",
       "</style>\n",
       "<table border=\"1\" class=\"dataframe\">\n",
       "  <thead>\n",
       "    <tr style=\"text-align: right;\">\n",
       "      <th></th>\n",
       "      <th>A</th>\n",
       "      <th>B</th>\n",
       "      <th>C</th>\n",
       "    </tr>\n",
       "  </thead>\n",
       "  <tbody>\n",
       "    <tr>\n",
       "      <th>Tim</th>\n",
       "      <td>inf</td>\n",
       "      <td>1.00</td>\n",
       "      <td>0.5</td>\n",
       "    </tr>\n",
       "    <tr>\n",
       "      <th>Tom</th>\n",
       "      <td>0.333333</td>\n",
       "      <td>0.25</td>\n",
       "      <td>0.2</td>\n",
       "    </tr>\n",
       "  </tbody>\n",
       "</table>\n",
       "</div>"
      ],
      "text/plain": [
       "            A     B    C\n",
       "Tim       inf  1.00  0.5\n",
       "Tom  0.333333  0.25  0.2"
      ]
     },
     "execution_count": 10,
     "metadata": {},
     "output_type": "execute_result"
    }
   ],
   "source": [
    "1/df1"
   ]
  },
  {
   "cell_type": "markdown",
   "id": "f520c2a7",
   "metadata": {},
   "source": [
    "# Task\n",
    "\n",
    "# Perform element-wise multiplication on the DataFrame df1, where each element is multiplied by 3."
   ]
  },
  {
   "cell_type": "code",
   "execution_count": 12,
   "id": "7e4e8986",
   "metadata": {},
   "outputs": [
    {
     "data": {
      "text/html": [
       "<div>\n",
       "<style scoped>\n",
       "    .dataframe tbody tr th:only-of-type {\n",
       "        vertical-align: middle;\n",
       "    }\n",
       "\n",
       "    .dataframe tbody tr th {\n",
       "        vertical-align: top;\n",
       "    }\n",
       "\n",
       "    .dataframe thead th {\n",
       "        text-align: right;\n",
       "    }\n",
       "</style>\n",
       "<table border=\"1\" class=\"dataframe\">\n",
       "  <thead>\n",
       "    <tr style=\"text-align: right;\">\n",
       "      <th></th>\n",
       "      <th>A</th>\n",
       "      <th>B</th>\n",
       "      <th>C</th>\n",
       "    </tr>\n",
       "  </thead>\n",
       "  <tbody>\n",
       "    <tr>\n",
       "      <th>Tim</th>\n",
       "      <td>0</td>\n",
       "      <td>3</td>\n",
       "      <td>6</td>\n",
       "    </tr>\n",
       "    <tr>\n",
       "      <th>Tom</th>\n",
       "      <td>9</td>\n",
       "      <td>12</td>\n",
       "      <td>15</td>\n",
       "    </tr>\n",
       "  </tbody>\n",
       "</table>\n",
       "</div>"
      ],
      "text/plain": [
       "     A   B   C\n",
       "Tim  0   3   6\n",
       "Tom  9  12  15"
      ]
     },
     "execution_count": 12,
     "metadata": {},
     "output_type": "execute_result"
    }
   ],
   "source": [
    "df1*3"
   ]
  },
  {
   "cell_type": "markdown",
   "id": "6e46a099",
   "metadata": {},
   "source": [
    "# Perform element-wise multiplication on the DataFrame df1 by the scalar value 3 using the mul() function."
   ]
  },
  {
   "cell_type": "code",
   "execution_count": 13,
   "id": "3210eb38",
   "metadata": {},
   "outputs": [
    {
     "data": {
      "text/html": [
       "<div>\n",
       "<style scoped>\n",
       "    .dataframe tbody tr th:only-of-type {\n",
       "        vertical-align: middle;\n",
       "    }\n",
       "\n",
       "    .dataframe tbody tr th {\n",
       "        vertical-align: top;\n",
       "    }\n",
       "\n",
       "    .dataframe thead th {\n",
       "        text-align: right;\n",
       "    }\n",
       "</style>\n",
       "<table border=\"1\" class=\"dataframe\">\n",
       "  <thead>\n",
       "    <tr style=\"text-align: right;\">\n",
       "      <th></th>\n",
       "      <th>A</th>\n",
       "      <th>B</th>\n",
       "      <th>C</th>\n",
       "    </tr>\n",
       "  </thead>\n",
       "  <tbody>\n",
       "    <tr>\n",
       "      <th>Tim</th>\n",
       "      <td>0</td>\n",
       "      <td>3</td>\n",
       "      <td>6</td>\n",
       "    </tr>\n",
       "    <tr>\n",
       "      <th>Tom</th>\n",
       "      <td>9</td>\n",
       "      <td>12</td>\n",
       "      <td>15</td>\n",
       "    </tr>\n",
       "  </tbody>\n",
       "</table>\n",
       "</div>"
      ],
      "text/plain": [
       "     A   B   C\n",
       "Tim  0   3   6\n",
       "Tom  9  12  15"
      ]
     },
     "execution_count": 13,
     "metadata": {},
     "output_type": "execute_result"
    }
   ],
   "source": [
    "df1.mul(3)"
   ]
  },
  {
   "cell_type": "markdown",
   "id": "ebbd6748",
   "metadata": {},
   "source": [
    "# Select the second row of the DataFrame df2 and assign it to the variable s. Use the iloc indexer to select rows and columns by integer location. And Perform element-wise subtraction between the DataFrame df2 and the Series s"
   ]
  },
  {
   "cell_type": "code",
   "execution_count": 15,
   "id": "252277f0",
   "metadata": {},
   "outputs": [
    {
     "name": "stdout",
     "output_type": "stream",
     "text": [
      "A    3\n",
      "C    4\n",
      "D    5\n",
      "Name: Kate, dtype: int64\n"
     ]
    },
    {
     "data": {
      "text/html": [
       "<div>\n",
       "<style scoped>\n",
       "    .dataframe tbody tr th:only-of-type {\n",
       "        vertical-align: middle;\n",
       "    }\n",
       "\n",
       "    .dataframe tbody tr th {\n",
       "        vertical-align: top;\n",
       "    }\n",
       "\n",
       "    .dataframe thead th {\n",
       "        text-align: right;\n",
       "    }\n",
       "</style>\n",
       "<table border=\"1\" class=\"dataframe\">\n",
       "  <thead>\n",
       "    <tr style=\"text-align: right;\">\n",
       "      <th></th>\n",
       "      <th>A</th>\n",
       "      <th>C</th>\n",
       "      <th>D</th>\n",
       "    </tr>\n",
       "  </thead>\n",
       "  <tbody>\n",
       "    <tr>\n",
       "      <th>Tim</th>\n",
       "      <td>-3</td>\n",
       "      <td>-3</td>\n",
       "      <td>-3</td>\n",
       "    </tr>\n",
       "    <tr>\n",
       "      <th>Kate</th>\n",
       "      <td>0</td>\n",
       "      <td>0</td>\n",
       "      <td>0</td>\n",
       "    </tr>\n",
       "    <tr>\n",
       "      <th>Tom</th>\n",
       "      <td>3</td>\n",
       "      <td>3</td>\n",
       "      <td>3</td>\n",
       "    </tr>\n",
       "  </tbody>\n",
       "</table>\n",
       "</div>"
      ],
      "text/plain": [
       "      A  C  D\n",
       "Tim  -3 -3 -3\n",
       "Kate  0  0  0\n",
       "Tom   3  3  3"
      ]
     },
     "execution_count": 15,
     "metadata": {},
     "output_type": "execute_result"
    }
   ],
   "source": [
    "s = df2.iloc[1]\n",
    "print(s)\n",
    "df2 -s \n"
   ]
  },
  {
   "cell_type": "markdown",
   "id": "1ee2d698",
   "metadata": {},
   "source": [
    "# Select the column labeled \"A\" from the DataFrame df2 and assigns it to the variable s2\n"
   ]
  },
  {
   "cell_type": "code",
   "execution_count": 16,
   "id": "80e3ef28",
   "metadata": {},
   "outputs": [
    {
     "data": {
      "text/plain": [
       "Tim     0\n",
       "Kate    3\n",
       "Tom     6\n",
       "Name: A, dtype: int64"
      ]
     },
     "execution_count": 16,
     "metadata": {},
     "output_type": "execute_result"
    }
   ],
   "source": [
    "s2 = df2[\"A\"]\n",
    "s2"
   ]
  },
  {
   "cell_type": "markdown",
   "id": "37aedddc",
   "metadata": {},
   "source": [
    "# Perform element-wise subtraction between the DataFrame df2 and the Series s2 along the rows (axis=0)."
   ]
  },
  {
   "cell_type": "code",
   "execution_count": 17,
   "id": "445c6552",
   "metadata": {},
   "outputs": [
    {
     "data": {
      "text/html": [
       "<div>\n",
       "<style scoped>\n",
       "    .dataframe tbody tr th:only-of-type {\n",
       "        vertical-align: middle;\n",
       "    }\n",
       "\n",
       "    .dataframe tbody tr th {\n",
       "        vertical-align: top;\n",
       "    }\n",
       "\n",
       "    .dataframe thead th {\n",
       "        text-align: right;\n",
       "    }\n",
       "</style>\n",
       "<table border=\"1\" class=\"dataframe\">\n",
       "  <thead>\n",
       "    <tr style=\"text-align: right;\">\n",
       "      <th></th>\n",
       "      <th>A</th>\n",
       "      <th>C</th>\n",
       "      <th>D</th>\n",
       "    </tr>\n",
       "  </thead>\n",
       "  <tbody>\n",
       "    <tr>\n",
       "      <th>Tim</th>\n",
       "      <td>0</td>\n",
       "      <td>1</td>\n",
       "      <td>2</td>\n",
       "    </tr>\n",
       "    <tr>\n",
       "      <th>Kate</th>\n",
       "      <td>0</td>\n",
       "      <td>1</td>\n",
       "      <td>2</td>\n",
       "    </tr>\n",
       "    <tr>\n",
       "      <th>Tom</th>\n",
       "      <td>0</td>\n",
       "      <td>1</td>\n",
       "      <td>2</td>\n",
       "    </tr>\n",
       "  </tbody>\n",
       "</table>\n",
       "</div>"
      ],
      "text/plain": [
       "      A  C  D\n",
       "Tim   0  1  2\n",
       "Kate  0  1  2\n",
       "Tom   0  1  2"
      ]
     },
     "execution_count": 17,
     "metadata": {},
     "output_type": "execute_result"
    }
   ],
   "source": [
    "df2.sub(s2 , axis=0)"
   ]
  },
  {
   "cell_type": "markdown",
   "id": "aa14faab",
   "metadata": {},
   "source": [
    "<h1 style = \"color: blue\">Applying a Function</h1>"
   ]
  },
  {
   "cell_type": "markdown",
   "id": "1535a28b",
   "metadata": {},
   "source": [
    "# Create a DataFrame named df with 4 rows and 3 columns. The values in the DataFrame should be generated from a random normal distribution using the np.random.randn function. The column labels should be set as \"A\", \"B\", and \"C\", while the row labels should be set as \"Kim\", \"Susan\", \"Tim\", and \"Tom\"."
   ]
  },
  {
   "cell_type": "code",
   "execution_count": 18,
   "id": "6d854e4d",
   "metadata": {},
   "outputs": [
    {
     "data": {
      "text/html": [
       "<div>\n",
       "<style scoped>\n",
       "    .dataframe tbody tr th:only-of-type {\n",
       "        vertical-align: middle;\n",
       "    }\n",
       "\n",
       "    .dataframe tbody tr th {\n",
       "        vertical-align: top;\n",
       "    }\n",
       "\n",
       "    .dataframe thead th {\n",
       "        text-align: right;\n",
       "    }\n",
       "</style>\n",
       "<table border=\"1\" class=\"dataframe\">\n",
       "  <thead>\n",
       "    <tr style=\"text-align: right;\">\n",
       "      <th></th>\n",
       "      <th>A</th>\n",
       "      <th>B</th>\n",
       "      <th>C</th>\n",
       "    </tr>\n",
       "  </thead>\n",
       "  <tbody>\n",
       "    <tr>\n",
       "      <th>Kim</th>\n",
       "      <td>0.538819</td>\n",
       "      <td>-2.147877</td>\n",
       "      <td>1.896065</td>\n",
       "    </tr>\n",
       "    <tr>\n",
       "      <th>Susan</th>\n",
       "      <td>0.399668</td>\n",
       "      <td>-0.048253</td>\n",
       "      <td>1.138680</td>\n",
       "    </tr>\n",
       "    <tr>\n",
       "      <th>Tim</th>\n",
       "      <td>-0.632534</td>\n",
       "      <td>2.004313</td>\n",
       "      <td>1.689684</td>\n",
       "    </tr>\n",
       "    <tr>\n",
       "      <th>Tom</th>\n",
       "      <td>0.345578</td>\n",
       "      <td>0.402853</td>\n",
       "      <td>-2.149140</td>\n",
       "    </tr>\n",
       "  </tbody>\n",
       "</table>\n",
       "</div>"
      ],
      "text/plain": [
       "              A         B         C\n",
       "Kim    0.538819 -2.147877  1.896065\n",
       "Susan  0.399668 -0.048253  1.138680\n",
       "Tim   -0.632534  2.004313  1.689684\n",
       "Tom    0.345578  0.402853 -2.149140"
      ]
     },
     "execution_count": 18,
     "metadata": {},
     "output_type": "execute_result"
    }
   ],
   "source": [
    "df = pd.DataFrame(np.random.randn(4,3),\n",
    "                 index= [\"Kim\", \"Susan\", \"Tim\", \"Tom\"],\n",
    "                 columns = list(\"ABC\"))\n",
    "df"
   ]
  },
  {
   "cell_type": "markdown",
   "id": "b8a58b1c",
   "metadata": {},
   "source": [
    "# Calculate the absolute values of each element in the DataFrame df"
   ]
  },
  {
   "cell_type": "code",
   "execution_count": 19,
   "id": "dcbd18d8",
   "metadata": {},
   "outputs": [
    {
     "data": {
      "text/html": [
       "<div>\n",
       "<style scoped>\n",
       "    .dataframe tbody tr th:only-of-type {\n",
       "        vertical-align: middle;\n",
       "    }\n",
       "\n",
       "    .dataframe tbody tr th {\n",
       "        vertical-align: top;\n",
       "    }\n",
       "\n",
       "    .dataframe thead th {\n",
       "        text-align: right;\n",
       "    }\n",
       "</style>\n",
       "<table border=\"1\" class=\"dataframe\">\n",
       "  <thead>\n",
       "    <tr style=\"text-align: right;\">\n",
       "      <th></th>\n",
       "      <th>A</th>\n",
       "      <th>B</th>\n",
       "      <th>C</th>\n",
       "    </tr>\n",
       "  </thead>\n",
       "  <tbody>\n",
       "    <tr>\n",
       "      <th>Kim</th>\n",
       "      <td>0.538819</td>\n",
       "      <td>2.147877</td>\n",
       "      <td>1.896065</td>\n",
       "    </tr>\n",
       "    <tr>\n",
       "      <th>Susan</th>\n",
       "      <td>0.399668</td>\n",
       "      <td>0.048253</td>\n",
       "      <td>1.138680</td>\n",
       "    </tr>\n",
       "    <tr>\n",
       "      <th>Tim</th>\n",
       "      <td>0.632534</td>\n",
       "      <td>2.004313</td>\n",
       "      <td>1.689684</td>\n",
       "    </tr>\n",
       "    <tr>\n",
       "      <th>Tom</th>\n",
       "      <td>0.345578</td>\n",
       "      <td>0.402853</td>\n",
       "      <td>2.149140</td>\n",
       "    </tr>\n",
       "  </tbody>\n",
       "</table>\n",
       "</div>"
      ],
      "text/plain": [
       "              A         B         C\n",
       "Kim    0.538819  2.147877  1.896065\n",
       "Susan  0.399668  0.048253  1.138680\n",
       "Tim    0.632534  2.004313  1.689684\n",
       "Tom    0.345578  0.402853  2.149140"
      ]
     },
     "execution_count": 19,
     "metadata": {},
     "output_type": "execute_result"
    }
   ],
   "source": [
    "np.abs(df)"
   ]
  },
  {
   "cell_type": "markdown",
   "id": "99e3f334",
   "metadata": {},
   "source": [
    "# Calculate the difference between the maximum and minimum values of a given input x using both Regular function and Lambda function"
   ]
  },
  {
   "cell_type": "code",
   "execution_count": 20,
   "id": "e1e8591c",
   "metadata": {},
   "outputs": [
    {
     "data": {
      "text/plain": [
       "A    1.171353\n",
       "B    4.152190\n",
       "C    4.045205\n",
       "dtype: float64"
      ]
     },
     "execution_count": 20,
     "metadata": {},
     "output_type": "execute_result"
    }
   ],
   "source": [
    "def calculate_range(x):\n",
    "    return x.max() - x.min()\n",
    "df.apply(calculate_range)"
   ]
  },
  {
   "cell_type": "code",
   "execution_count": 24,
   "id": "5f6f58d6",
   "metadata": {},
   "outputs": [
    {
     "data": {
      "text/plain": [
       "A    1.171353\n",
       "B    4.152190\n",
       "C    4.045205\n",
       "dtype: float64"
      ]
     },
     "execution_count": 24,
     "metadata": {},
     "output_type": "execute_result"
    }
   ],
   "source": [
    "f_Lambda = lambda x:x.max() - x.min()  \n",
    "df.apply(f_Lambda)"
   ]
  },
  {
   "cell_type": "markdown",
   "id": "dc85f00c",
   "metadata": {},
   "source": [
    "# Apply the lambda function f to each row (axis=1) of the DataFrame df"
   ]
  },
  {
   "cell_type": "code",
   "execution_count": 25,
   "id": "4202f2a8",
   "metadata": {},
   "outputs": [
    {
     "data": {
      "text/plain": [
       "Kim      4.043942\n",
       "Susan    1.186933\n",
       "Tim      2.636847\n",
       "Tom      2.551992\n",
       "dtype: float64"
      ]
     },
     "execution_count": 25,
     "metadata": {},
     "output_type": "execute_result"
    }
   ],
   "source": [
    "df.apply(f_Lambda, axis = 1)"
   ]
  },
  {
   "cell_type": "markdown",
   "id": "cdf288a4",
   "metadata": {},
   "source": [
    "# Task\n",
    "\n",
    "# Define a regular function named f that takes an input x and returns the square of x. Also apply this function to each element of the DataFrame df using the apply method."
   ]
  },
  {
   "cell_type": "code",
   "execution_count": 26,
   "id": "974fb7c7",
   "metadata": {},
   "outputs": [
    {
     "data": {
      "text/html": [
       "<div>\n",
       "<style scoped>\n",
       "    .dataframe tbody tr th:only-of-type {\n",
       "        vertical-align: middle;\n",
       "    }\n",
       "\n",
       "    .dataframe tbody tr th {\n",
       "        vertical-align: top;\n",
       "    }\n",
       "\n",
       "    .dataframe thead th {\n",
       "        text-align: right;\n",
       "    }\n",
       "</style>\n",
       "<table border=\"1\" class=\"dataframe\">\n",
       "  <thead>\n",
       "    <tr style=\"text-align: right;\">\n",
       "      <th></th>\n",
       "      <th>A</th>\n",
       "      <th>B</th>\n",
       "      <th>C</th>\n",
       "    </tr>\n",
       "  </thead>\n",
       "  <tbody>\n",
       "    <tr>\n",
       "      <th>Kim</th>\n",
       "      <td>0.290326</td>\n",
       "      <td>4.613376</td>\n",
       "      <td>3.595064</td>\n",
       "    </tr>\n",
       "    <tr>\n",
       "      <th>Susan</th>\n",
       "      <td>0.159735</td>\n",
       "      <td>0.002328</td>\n",
       "      <td>1.296592</td>\n",
       "    </tr>\n",
       "    <tr>\n",
       "      <th>Tim</th>\n",
       "      <td>0.400100</td>\n",
       "      <td>4.017271</td>\n",
       "      <td>2.855031</td>\n",
       "    </tr>\n",
       "    <tr>\n",
       "      <th>Tom</th>\n",
       "      <td>0.119424</td>\n",
       "      <td>0.162290</td>\n",
       "      <td>4.618801</td>\n",
       "    </tr>\n",
       "  </tbody>\n",
       "</table>\n",
       "</div>"
      ],
      "text/plain": [
       "              A         B         C\n",
       "Kim    0.290326  4.613376  3.595064\n",
       "Susan  0.159735  0.002328  1.296592\n",
       "Tim    0.400100  4.017271  2.855031\n",
       "Tom    0.119424  0.162290  4.618801"
      ]
     },
     "execution_count": 26,
     "metadata": {},
     "output_type": "execute_result"
    }
   ],
   "source": [
    "f = lambda x: x**2\n",
    "df.apply(f)"
   ]
  }
 ],
 "metadata": {
  "kernelspec": {
   "display_name": "Python 3 (ipykernel)",
   "language": "python",
   "name": "python3"
  },
  "language_info": {
   "codemirror_mode": {
    "name": "ipython",
    "version": 3
   },
   "file_extension": ".py",
   "mimetype": "text/x-python",
   "name": "python",
   "nbconvert_exporter": "python",
   "pygments_lexer": "ipython3",
   "version": "3.9.13"
  }
 },
 "nbformat": 4,
 "nbformat_minor": 5
}
